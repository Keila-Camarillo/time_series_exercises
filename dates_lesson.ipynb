{
 "cells": [
  {
   "cell_type": "markdown",
   "id": "45906b26",
   "metadata": {},
   "source": [
    "# Working With Dates in Pandas"
   ]
  },
  {
   "cell_type": "markdown",
   "id": "bdd609ec",
   "metadata": {},
   "source": [
    "What is it?\n",
    "- this is focusing on all the ways we can manipulate dates in pandas\n",
    "\n",
    "Why do we care?\n",
    "- being able to manipulate dates will allow us to prepare the data to analyze trends over time"
   ]
  },
  {
   "cell_type": "code",
   "execution_count": 1,
   "id": "14d2adb4",
   "metadata": {},
   "outputs": [],
   "source": [
    "import pandas as pd\n",
    "import numpy as np\n",
    "\n",
    "import matplotlib.pyplot as plt"
   ]
  },
  {
   "cell_type": "markdown",
   "id": "f54c36ad",
   "metadata": {},
   "source": [
    "## Create your own date"
   ]
  },
  {
   "cell_type": "markdown",
   "id": "8c407a12",
   "metadata": {},
   "source": [
    "#### using pandas"
   ]
  },
  {
   "cell_type": "code",
   "execution_count": 4,
   "id": "b38f96a0",
   "metadata": {},
   "outputs": [],
   "source": [
    "#with Timestamp()\n",
    "date = pd.Timestamp(month=3, day=12, year=2020)"
   ]
  },
  {
   "cell_type": "code",
   "execution_count": 5,
   "id": "59c9439c",
   "metadata": {},
   "outputs": [
    {
     "data": {
      "text/plain": [
       "pandas._libs.tslibs.timestamps.Timestamp"
      ]
     },
     "execution_count": 5,
     "metadata": {},
     "output_type": "execute_result"
    }
   ],
   "source": [
    "type(date)"
   ]
  },
  {
   "cell_type": "markdown",
   "id": "71c34911",
   "metadata": {},
   "source": [
    "#### using datetime module from datetime library"
   ]
  },
  {
   "cell_type": "code",
   "execution_count": 6,
   "id": "2b108f08",
   "metadata": {},
   "outputs": [],
   "source": [
    "#import\n",
    "from datetime import datetime"
   ]
  },
  {
   "cell_type": "code",
   "execution_count": 8,
   "id": "8a76627d",
   "metadata": {},
   "outputs": [],
   "source": [
    "#with datetime()\n",
    "date = datetime(month=3, day=12, year=2020)"
   ]
  },
  {
   "cell_type": "code",
   "execution_count": 9,
   "id": "d5b536d7",
   "metadata": {},
   "outputs": [
    {
     "data": {
      "text/plain": [
       "datetime.datetime"
      ]
     },
     "execution_count": 9,
     "metadata": {},
     "output_type": "execute_result"
    }
   ],
   "source": [
    "#datatype\n",
    "type(date)"
   ]
  },
  {
   "cell_type": "markdown",
   "id": "1b5b4320",
   "metadata": {},
   "source": [
    "#### calculate now (using datetime module)"
   ]
  },
  {
   "cell_type": "code",
   "execution_count": 12,
   "id": "12e5a948",
   "metadata": {},
   "outputs": [],
   "source": [
    "today = datetime.now()"
   ]
  },
  {
   "cell_type": "code",
   "execution_count": 13,
   "id": "fb1e3610",
   "metadata": {},
   "outputs": [
    {
     "data": {
      "text/plain": [
       "datetime.datetime"
      ]
     },
     "execution_count": 13,
     "metadata": {},
     "output_type": "execute_result"
    }
   ],
   "source": [
    "#datatype\n",
    "type(today)"
   ]
  },
  {
   "cell_type": "markdown",
   "id": "e028db2b",
   "metadata": {},
   "source": [
    "## Add/subtract dates"
   ]
  },
  {
   "cell_type": "markdown",
   "id": "5f90072e",
   "metadata": {},
   "source": [
    "#### subtract two dates"
   ]
  },
  {
   "cell_type": "code",
   "execution_count": 14,
   "id": "2d5934b9",
   "metadata": {},
   "outputs": [
    {
     "data": {
      "text/plain": [
       "datetime.datetime(2023, 5, 31, 10, 32, 32, 249297)"
      ]
     },
     "execution_count": 14,
     "metadata": {},
     "output_type": "execute_result"
    }
   ],
   "source": [
    "today"
   ]
  },
  {
   "cell_type": "code",
   "execution_count": 15,
   "id": "be21b262",
   "metadata": {},
   "outputs": [
    {
     "data": {
      "text/plain": [
       "datetime.datetime(2020, 3, 12, 0, 0)"
      ]
     },
     "execution_count": 15,
     "metadata": {},
     "output_type": "execute_result"
    }
   ],
   "source": [
    "date"
   ]
  },
  {
   "cell_type": "code",
   "execution_count": 19,
   "id": "7b2db7bd",
   "metadata": {},
   "outputs": [
    {
     "data": {
      "text/plain": [
       "datetime.timedelta(days=1175, seconds=37952, microseconds=249297)"
      ]
     },
     "execution_count": 19,
     "metadata": {},
     "output_type": "execute_result"
    }
   ],
   "source": [
    "today - date"
   ]
  },
  {
   "cell_type": "markdown",
   "id": "d5004e8d",
   "metadata": {},
   "source": [
    "#### use Timedelta to alter a date"
   ]
  },
  {
   "cell_type": "code",
   "execution_count": 17,
   "id": "768e1d35",
   "metadata": {},
   "outputs": [
    {
     "data": {
      "text/plain": [
       "datetime.datetime(2023, 5, 31, 10, 32, 32, 249297)"
      ]
     },
     "execution_count": 17,
     "metadata": {},
     "output_type": "execute_result"
    }
   ],
   "source": [
    "today"
   ]
  },
  {
   "cell_type": "code",
   "execution_count": 21,
   "id": "04e82125",
   "metadata": {},
   "outputs": [
    {
     "data": {
      "text/plain": [
       "datetime.datetime(2023, 6, 4, 10, 32, 32, 249297)"
      ]
     },
     "execution_count": 21,
     "metadata": {},
     "output_type": "execute_result"
    }
   ],
   "source": [
    "today + pd.Timedelta(days=4)"
   ]
  },
  {
   "cell_type": "code",
   "execution_count": 22,
   "id": "a2fb7e6f",
   "metadata": {},
   "outputs": [
    {
     "data": {
      "text/plain": [
       "datetime.datetime(2023, 5, 27, 10, 32, 32, 249297)"
      ]
     },
     "execution_count": 22,
     "metadata": {},
     "output_type": "execute_result"
    }
   ],
   "source": [
    "today - pd.Timedelta(days=4)"
   ]
  },
  {
   "cell_type": "markdown",
   "id": "85b1a110",
   "metadata": {},
   "source": [
    "## Transform to date format"
   ]
  },
  {
   "cell_type": "markdown",
   "id": "808ba06c",
   "metadata": {},
   "source": [
    "### One date"
   ]
  },
  {
   "cell_type": "code",
   "execution_count": 23,
   "id": "46a87ccf",
   "metadata": {},
   "outputs": [],
   "source": [
    "date = 'Jan 1 1970'"
   ]
  },
  {
   "cell_type": "code",
   "execution_count": 24,
   "id": "b26e0f4c",
   "metadata": {},
   "outputs": [
    {
     "data": {
      "text/plain": [
       "str"
      ]
     },
     "execution_count": 24,
     "metadata": {},
     "output_type": "execute_result"
    }
   ],
   "source": [
    "#datatype\n",
    "type(date)"
   ]
  },
  {
   "cell_type": "code",
   "execution_count": 26,
   "id": "6448efb4",
   "metadata": {},
   "outputs": [
    {
     "data": {
      "text/plain": [
       "Timestamp('1970-01-01 00:00:00')"
      ]
     },
     "execution_count": 26,
     "metadata": {},
     "output_type": "execute_result"
    }
   ],
   "source": [
    "#use pd.to_datetime() to convert\n",
    "date = pd.to_datetime(date)\n",
    "date"
   ]
  },
  {
   "cell_type": "code",
   "execution_count": 27,
   "id": "9f8944b4",
   "metadata": {},
   "outputs": [
    {
     "data": {
      "text/plain": [
       "pandas._libs.tslibs.timestamps.Timestamp"
      ]
     },
     "execution_count": 27,
     "metadata": {},
     "output_type": "execute_result"
    }
   ],
   "source": [
    "#datatype\n",
    "type(date)"
   ]
  },
  {
   "cell_type": "markdown",
   "id": "8ed500df",
   "metadata": {},
   "source": [
    "### One date, but confuse pandas"
   ]
  },
  {
   "cell_type": "code",
   "execution_count": 28,
   "id": "d07c9210",
   "metadata": {},
   "outputs": [],
   "source": [
    "date = 'Jan:7:1970'"
   ]
  },
  {
   "cell_type": "code",
   "execution_count": 29,
   "id": "df975872",
   "metadata": {},
   "outputs": [
    {
     "data": {
      "text/plain": [
       "str"
      ]
     },
     "execution_count": 29,
     "metadata": {},
     "output_type": "execute_result"
    }
   ],
   "source": [
    "#datatype\n",
    "type(date)"
   ]
  },
  {
   "cell_type": "code",
   "execution_count": 31,
   "id": "fca2920e",
   "metadata": {},
   "outputs": [],
   "source": [
    "#use pd.to_datetime() to convert\n",
    "# pd.to_datetime(date)"
   ]
  },
  {
   "cell_type": "markdown",
   "id": "2a2fc252",
   "metadata": {},
   "source": [
    "We can fix this error using the `format` argument.\n",
    "\n",
    "For info on formatting: https://docs.python.org/3/library/datetime.html#strftime-and-strptime-behavior"
   ]
  },
  {
   "cell_type": "code",
   "execution_count": 38,
   "id": "84b92c68",
   "metadata": {},
   "outputs": [],
   "source": [
    "#use format arguement\n",
    "date = pd.to_datetime(date, format='%b:%d:%Y')"
   ]
  },
  {
   "cell_type": "markdown",
   "id": "0797ab64",
   "metadata": {},
   "source": [
    "#### using `strftime` to reformat date to more readable version\n",
    "- can think of it as a \"string format time\""
   ]
  },
  {
   "cell_type": "code",
   "execution_count": 41,
   "id": "8ac45497",
   "metadata": {},
   "outputs": [],
   "source": [
    "date = date.strftime('%d/%m/%y')"
   ]
  },
  {
   "cell_type": "code",
   "execution_count": 44,
   "id": "33df2292",
   "metadata": {},
   "outputs": [
    {
     "data": {
      "text/plain": [
       "str"
      ]
     },
     "execution_count": 44,
     "metadata": {},
     "output_type": "execute_result"
    }
   ],
   "source": [
    "#datatype\n",
    "type(date)"
   ]
  },
  {
   "cell_type": "markdown",
   "id": "438721b8",
   "metadata": {},
   "source": [
    "### Now a whole columns of dates"
   ]
  },
  {
   "cell_type": "markdown",
   "id": "d43d50e7",
   "metadata": {},
   "source": [
    "Data: the amount of coffee consumed per day"
   ]
  },
  {
   "cell_type": "code",
   "execution_count": 45,
   "id": "b6f7272c",
   "metadata": {},
   "outputs": [],
   "source": [
    "url = \"https://gist.githubusercontent.com/ryanorsinger/\\\n",
    "b309f8db19e0ca71b213d4877d835e77/raw/f5841017310e2f4ca070b313529ceec2375336ba/coffee_consumption.csv\"\n",
    "df = pd.read_csv(url)"
   ]
  },
  {
   "cell_type": "code",
   "execution_count": 52,
   "id": "9c508055",
   "metadata": {},
   "outputs": [
    {
     "data": {
      "text/html": [
       "<div>\n",
       "<style scoped>\n",
       "    .dataframe tbody tr th:only-of-type {\n",
       "        vertical-align: middle;\n",
       "    }\n",
       "\n",
       "    .dataframe tbody tr th {\n",
       "        vertical-align: top;\n",
       "    }\n",
       "\n",
       "    .dataframe thead th {\n",
       "        text-align: right;\n",
       "    }\n",
       "</style>\n",
       "<table border=\"1\" class=\"dataframe\">\n",
       "  <thead>\n",
       "    <tr style=\"text-align: right;\">\n",
       "      <th></th>\n",
       "      <th>date</th>\n",
       "      <th>coffee_consumption</th>\n",
       "    </tr>\n",
       "  </thead>\n",
       "  <tbody>\n",
       "    <tr>\n",
       "      <th>0</th>\n",
       "      <td>2019-01-01</td>\n",
       "      <td>14.301915</td>\n",
       "    </tr>\n",
       "    <tr>\n",
       "      <th>1</th>\n",
       "      <td>2019-01-02</td>\n",
       "      <td>12.905900</td>\n",
       "    </tr>\n",
       "    <tr>\n",
       "      <th>2</th>\n",
       "      <td>2019-01-03</td>\n",
       "      <td>10.046015</td>\n",
       "    </tr>\n",
       "    <tr>\n",
       "      <th>3</th>\n",
       "      <td>2019-01-04</td>\n",
       "      <td>6.354805</td>\n",
       "    </tr>\n",
       "    <tr>\n",
       "      <th>4</th>\n",
       "      <td>2019-01-07</td>\n",
       "      <td>8.545563</td>\n",
       "    </tr>\n",
       "  </tbody>\n",
       "</table>\n",
       "</div>"
      ],
      "text/plain": [
       "         date  coffee_consumption\n",
       "0  2019-01-01           14.301915\n",
       "1  2019-01-02           12.905900\n",
       "2  2019-01-03           10.046015\n",
       "3  2019-01-04            6.354805\n",
       "4  2019-01-07            8.545563"
      ]
     },
     "execution_count": 52,
     "metadata": {},
     "output_type": "execute_result"
    }
   ],
   "source": [
    "#look at data\n",
    "df.head()"
   ]
  },
  {
   "cell_type": "code",
   "execution_count": 57,
   "id": "9aece94f",
   "metadata": {},
   "outputs": [
    {
     "data": {
      "text/plain": [
       "date                  datetime64[ns]\n",
       "coffee_consumption           float64\n",
       "dtype: object"
      ]
     },
     "execution_count": 57,
     "metadata": {},
     "output_type": "execute_result"
    }
   ],
   "source": [
    "#datatypes\n",
    "df.dtypes"
   ]
  },
  {
   "cell_type": "code",
   "execution_count": 50,
   "id": "ab45df35",
   "metadata": {},
   "outputs": [
    {
     "data": {
      "text/plain": [
       "0     2019-01-01\n",
       "1     2019-01-02\n",
       "2     2019-01-03\n",
       "3     2019-01-04\n",
       "4     2019-01-07\n",
       "         ...    \n",
       "256   2019-12-25\n",
       "257   2019-12-26\n",
       "258   2019-12-27\n",
       "259   2019-12-30\n",
       "260   2019-12-31\n",
       "Name: date, Length: 261, dtype: datetime64[ns]"
      ]
     },
     "execution_count": 50,
     "metadata": {},
     "output_type": "execute_result"
    }
   ],
   "source": [
    "#use pd.to_datetime() to convert\n",
    "pd.to_datetime(df.date)"
   ]
  },
  {
   "cell_type": "code",
   "execution_count": 54,
   "id": "dd676fcb",
   "metadata": {},
   "outputs": [
    {
     "data": {
      "text/plain": [
       "0     2019-01-01\n",
       "1     2019-01-02\n",
       "2     2019-01-03\n",
       "3     2019-01-04\n",
       "4     2019-01-07\n",
       "         ...    \n",
       "256   2019-12-25\n",
       "257   2019-12-26\n",
       "258   2019-12-27\n",
       "259   2019-12-30\n",
       "260   2019-12-31\n",
       "Name: date, Length: 261, dtype: datetime64[ns]"
      ]
     },
     "execution_count": 54,
     "metadata": {},
     "output_type": "execute_result"
    }
   ],
   "source": [
    "#can also use .astype() to convert\n",
    "df.date = df.date.astype('datetime64')\n",
    "df.date"
   ]
  },
  {
   "cell_type": "markdown",
   "id": "3a36d05f",
   "metadata": {},
   "source": [
    "<div class=\"alert alert-block alert-info\"> <b>NOTE:</b> use pd.to_datetime when you have weird dates, so you can use the format argument </div>"
   ]
  },
  {
   "cell_type": "code",
   "execution_count": 55,
   "id": "63a498c9",
   "metadata": {},
   "outputs": [
    {
     "data": {
      "text/plain": [
       "date                  datetime64[ns]\n",
       "coffee_consumption           float64\n",
       "dtype: object"
      ]
     },
     "execution_count": 55,
     "metadata": {},
     "output_type": "execute_result"
    }
   ],
   "source": [
    "#datatypes\n",
    "df.dtypes"
   ]
  },
  {
   "cell_type": "markdown",
   "id": "9a040d94",
   "metadata": {},
   "source": [
    "## Now that they are in a date format, let's manipulate them"
   ]
  },
  {
   "cell_type": "code",
   "execution_count": 56,
   "id": "237302cf",
   "metadata": {},
   "outputs": [
    {
     "data": {
      "text/html": [
       "<div>\n",
       "<style scoped>\n",
       "    .dataframe tbody tr th:only-of-type {\n",
       "        vertical-align: middle;\n",
       "    }\n",
       "\n",
       "    .dataframe tbody tr th {\n",
       "        vertical-align: top;\n",
       "    }\n",
       "\n",
       "    .dataframe thead th {\n",
       "        text-align: right;\n",
       "    }\n",
       "</style>\n",
       "<table border=\"1\" class=\"dataframe\">\n",
       "  <thead>\n",
       "    <tr style=\"text-align: right;\">\n",
       "      <th></th>\n",
       "      <th>date</th>\n",
       "      <th>coffee_consumption</th>\n",
       "    </tr>\n",
       "  </thead>\n",
       "  <tbody>\n",
       "    <tr>\n",
       "      <th>0</th>\n",
       "      <td>2019-01-01</td>\n",
       "      <td>14.301915</td>\n",
       "    </tr>\n",
       "    <tr>\n",
       "      <th>1</th>\n",
       "      <td>2019-01-02</td>\n",
       "      <td>12.905900</td>\n",
       "    </tr>\n",
       "    <tr>\n",
       "      <th>2</th>\n",
       "      <td>2019-01-03</td>\n",
       "      <td>10.046015</td>\n",
       "    </tr>\n",
       "    <tr>\n",
       "      <th>3</th>\n",
       "      <td>2019-01-04</td>\n",
       "      <td>6.354805</td>\n",
       "    </tr>\n",
       "    <tr>\n",
       "      <th>4</th>\n",
       "      <td>2019-01-07</td>\n",
       "      <td>8.545563</td>\n",
       "    </tr>\n",
       "  </tbody>\n",
       "</table>\n",
       "</div>"
      ],
      "text/plain": [
       "        date  coffee_consumption\n",
       "0 2019-01-01           14.301915\n",
       "1 2019-01-02           12.905900\n",
       "2 2019-01-03           10.046015\n",
       "3 2019-01-04            6.354805\n",
       "4 2019-01-07            8.545563"
      ]
     },
     "execution_count": 56,
     "metadata": {},
     "output_type": "execute_result"
    }
   ],
   "source": [
    "df.head()"
   ]
  },
  {
   "cell_type": "markdown",
   "id": "e4c6c72f",
   "metadata": {},
   "source": [
    "### extract pieces of the date"
   ]
  },
  {
   "cell_type": "markdown",
   "id": "d9f9b57f",
   "metadata": {},
   "source": [
    "<div class=\"alert alert-block alert-info\"> <b>NOTE:</b> use <code>.dt</code> when using datetime methods/attributes on a series (just like using <code>.str</code>when using string functions) </div>"
   ]
  },
  {
   "cell_type": "markdown",
   "id": "ebe680af",
   "metadata": {},
   "source": [
    "the documentation: https://pandas.pydata.org/docs/reference/api/pandas.DatetimeIndex.html"
   ]
  },
  {
   "cell_type": "code",
   "execution_count": 59,
   "id": "eeb160ee",
   "metadata": {},
   "outputs": [
    {
     "data": {
      "text/plain": [
       "0      2019\n",
       "1      2019\n",
       "2      2019\n",
       "3      2019\n",
       "4      2019\n",
       "       ... \n",
       "256    2019\n",
       "257    2019\n",
       "258    2019\n",
       "259    2019\n",
       "260    2019\n",
       "Name: date, Length: 261, dtype: int64"
      ]
     },
     "execution_count": 59,
     "metadata": {},
     "output_type": "execute_result"
    }
   ],
   "source": [
    "# extract only year\n",
    "df.date.dt.year"
   ]
  },
  {
   "cell_type": "code",
   "execution_count": 61,
   "id": "50696e9c",
   "metadata": {},
   "outputs": [
    {
     "data": {
      "text/plain": [
       "0      1\n",
       "1      2\n",
       "2      3\n",
       "3      4\n",
       "4      0\n",
       "      ..\n",
       "256    2\n",
       "257    3\n",
       "258    4\n",
       "259    0\n",
       "260    1\n",
       "Name: date, Length: 261, dtype: int64"
      ]
     },
     "execution_count": 61,
     "metadata": {},
     "output_type": "execute_result"
    }
   ],
   "source": [
    "# extract only day of week\n",
    "df.date.dt.day_of_week"
   ]
  },
  {
   "cell_type": "markdown",
   "id": "be308997",
   "metadata": {},
   "source": [
    "### add them back to our initial dataframe"
   ]
  },
  {
   "cell_type": "code",
   "execution_count": 62,
   "id": "0f185684",
   "metadata": {},
   "outputs": [],
   "source": [
    "#add them all\n",
    "df['year'] =df.date.dt.year\n",
    "df['day'] =df.date.dt.day\n",
    "df['day_of_week'] =df.date.dt.day_of_week"
   ]
  },
  {
   "cell_type": "code",
   "execution_count": 63,
   "id": "f9e3684b",
   "metadata": {},
   "outputs": [
    {
     "data": {
      "text/html": [
       "<div>\n",
       "<style scoped>\n",
       "    .dataframe tbody tr th:only-of-type {\n",
       "        vertical-align: middle;\n",
       "    }\n",
       "\n",
       "    .dataframe tbody tr th {\n",
       "        vertical-align: top;\n",
       "    }\n",
       "\n",
       "    .dataframe thead th {\n",
       "        text-align: right;\n",
       "    }\n",
       "</style>\n",
       "<table border=\"1\" class=\"dataframe\">\n",
       "  <thead>\n",
       "    <tr style=\"text-align: right;\">\n",
       "      <th></th>\n",
       "      <th>date</th>\n",
       "      <th>coffee_consumption</th>\n",
       "      <th>year</th>\n",
       "      <th>day</th>\n",
       "      <th>day_of_week</th>\n",
       "    </tr>\n",
       "  </thead>\n",
       "  <tbody>\n",
       "    <tr>\n",
       "      <th>0</th>\n",
       "      <td>2019-01-01</td>\n",
       "      <td>14.301915</td>\n",
       "      <td>2019</td>\n",
       "      <td>1</td>\n",
       "      <td>1</td>\n",
       "    </tr>\n",
       "    <tr>\n",
       "      <th>1</th>\n",
       "      <td>2019-01-02</td>\n",
       "      <td>12.905900</td>\n",
       "      <td>2019</td>\n",
       "      <td>2</td>\n",
       "      <td>2</td>\n",
       "    </tr>\n",
       "    <tr>\n",
       "      <th>2</th>\n",
       "      <td>2019-01-03</td>\n",
       "      <td>10.046015</td>\n",
       "      <td>2019</td>\n",
       "      <td>3</td>\n",
       "      <td>3</td>\n",
       "    </tr>\n",
       "    <tr>\n",
       "      <th>3</th>\n",
       "      <td>2019-01-04</td>\n",
       "      <td>6.354805</td>\n",
       "      <td>2019</td>\n",
       "      <td>4</td>\n",
       "      <td>4</td>\n",
       "    </tr>\n",
       "    <tr>\n",
       "      <th>4</th>\n",
       "      <td>2019-01-07</td>\n",
       "      <td>8.545563</td>\n",
       "      <td>2019</td>\n",
       "      <td>7</td>\n",
       "      <td>0</td>\n",
       "    </tr>\n",
       "  </tbody>\n",
       "</table>\n",
       "</div>"
      ],
      "text/plain": [
       "        date  coffee_consumption  year  day  day_of_week\n",
       "0 2019-01-01           14.301915  2019    1            1\n",
       "1 2019-01-02           12.905900  2019    2            2\n",
       "2 2019-01-03           10.046015  2019    3            3\n",
       "3 2019-01-04            6.354805  2019    4            4\n",
       "4 2019-01-07            8.545563  2019    7            0"
      ]
     },
     "execution_count": 63,
     "metadata": {},
     "output_type": "execute_result"
    }
   ],
   "source": [
    "df.head()"
   ]
  },
  {
   "cell_type": "markdown",
   "id": "c8065bef",
   "metadata": {},
   "source": [
    "### reformat date using `strftime()`"
   ]
  },
  {
   "cell_type": "code",
   "execution_count": 64,
   "id": "65dbc938",
   "metadata": {},
   "outputs": [
    {
     "data": {
      "text/plain": [
       "0      01/01/2019\n",
       "1      01/02/2019\n",
       "2      01/03/2019\n",
       "3      01/04/2019\n",
       "4      01/07/2019\n",
       "          ...    \n",
       "256    12/25/2019\n",
       "257    12/26/2019\n",
       "258    12/27/2019\n",
       "259    12/30/2019\n",
       "260    12/31/2019\n",
       "Name: date, Length: 261, dtype: object"
      ]
     },
     "execution_count": 64,
     "metadata": {},
     "output_type": "execute_result"
    }
   ],
   "source": [
    "df.date.dt.strftime('%m/%d/%Y')"
   ]
  },
  {
   "cell_type": "code",
   "execution_count": 66,
   "id": "f00365e1",
   "metadata": {},
   "outputs": [
    {
     "data": {
      "text/plain": [
       "date                  datetime64[ns]\n",
       "coffee_consumption           float64\n",
       "year                           int64\n",
       "day                            int64\n",
       "day_of_week                    int64\n",
       "dtype: object"
      ]
     },
     "execution_count": 66,
     "metadata": {},
     "output_type": "execute_result"
    }
   ],
   "source": [
    "df.dtypes"
   ]
  },
  {
   "cell_type": "markdown",
   "id": "13626d99",
   "metadata": {},
   "source": [
    "## Mini exercise \n",
    "\n",
    "1. import the datetime module from the datetime library\n",
    "2. convert the date column to a datetime\n",
    "3. subtract one day from each date\n",
    "4. reformat the dates as \"Sun - March 26, 2022\"\n"
   ]
  },
  {
   "cell_type": "code",
   "execution_count": 98,
   "id": "7b504480",
   "metadata": {},
   "outputs": [],
   "source": [
    "url = 'https://gist.githubusercontent.com/misty-garcia/\\\n",
    "8c099128d3f59c32afaa5aa2c3e4fb62/raw/2a4c06ea955266e276a78af5d2e1083cfd348703/mockdates'\n",
    "\n",
    "df = pd.read_csv(url,sep='\\t')\n"
   ]
  },
  {
   "cell_type": "code",
   "execution_count": 99,
   "id": "3bd4e3f7",
   "metadata": {},
   "outputs": [
    {
     "data": {
      "text/html": [
       "<div>\n",
       "<style scoped>\n",
       "    .dataframe tbody tr th:only-of-type {\n",
       "        vertical-align: middle;\n",
       "    }\n",
       "\n",
       "    .dataframe tbody tr th {\n",
       "        vertical-align: top;\n",
       "    }\n",
       "\n",
       "    .dataframe thead th {\n",
       "        text-align: right;\n",
       "    }\n",
       "</style>\n",
       "<table border=\"1\" class=\"dataframe\">\n",
       "  <thead>\n",
       "    <tr style=\"text-align: right;\">\n",
       "      <th></th>\n",
       "      <th>date</th>\n",
       "    </tr>\n",
       "  </thead>\n",
       "  <tbody>\n",
       "    <tr>\n",
       "      <th>0</th>\n",
       "      <td>Mar - 27 - 2022</td>\n",
       "    </tr>\n",
       "    <tr>\n",
       "      <th>1</th>\n",
       "      <td>May - 22 - 2022</td>\n",
       "    </tr>\n",
       "    <tr>\n",
       "      <th>2</th>\n",
       "      <td>May - 16 - 2022</td>\n",
       "    </tr>\n",
       "    <tr>\n",
       "      <th>3</th>\n",
       "      <td>Aug - 22 - 2022</td>\n",
       "    </tr>\n",
       "    <tr>\n",
       "      <th>4</th>\n",
       "      <td>Mar - 15 - 2022</td>\n",
       "    </tr>\n",
       "  </tbody>\n",
       "</table>\n",
       "</div>"
      ],
      "text/plain": [
       "               date\n",
       "0   Mar - 27 - 2022\n",
       "1   May - 22 - 2022\n",
       "2   May - 16 - 2022\n",
       "3   Aug - 22 - 2022\n",
       "4   Mar - 15 - 2022"
      ]
     },
     "execution_count": 99,
     "metadata": {},
     "output_type": "execute_result"
    }
   ],
   "source": [
    "df.head()"
   ]
  },
  {
   "cell_type": "code",
   "execution_count": 100,
   "id": "e65a3030",
   "metadata": {},
   "outputs": [
    {
     "data": {
      "text/plain": [
       "date    datetime64[ns]\n",
       "dtype: object"
      ]
     },
     "execution_count": 100,
     "metadata": {},
     "output_type": "execute_result"
    }
   ],
   "source": [
    "df['date'] = pd.to_datetime(df.date)\n",
    "df.dtypes"
   ]
  },
  {
   "cell_type": "code",
   "execution_count": 101,
   "id": "29504021",
   "metadata": {},
   "outputs": [
    {
     "data": {
      "text/html": [
       "<div>\n",
       "<style scoped>\n",
       "    .dataframe tbody tr th:only-of-type {\n",
       "        vertical-align: middle;\n",
       "    }\n",
       "\n",
       "    .dataframe tbody tr th {\n",
       "        vertical-align: top;\n",
       "    }\n",
       "\n",
       "    .dataframe thead th {\n",
       "        text-align: right;\n",
       "    }\n",
       "</style>\n",
       "<table border=\"1\" class=\"dataframe\">\n",
       "  <thead>\n",
       "    <tr style=\"text-align: right;\">\n",
       "      <th></th>\n",
       "      <th>date</th>\n",
       "      <th>minus_1_day</th>\n",
       "    </tr>\n",
       "  </thead>\n",
       "  <tbody>\n",
       "    <tr>\n",
       "      <th>0</th>\n",
       "      <td>2022-03-27</td>\n",
       "      <td>2022-03-26</td>\n",
       "    </tr>\n",
       "    <tr>\n",
       "      <th>1</th>\n",
       "      <td>2022-05-22</td>\n",
       "      <td>2022-05-21</td>\n",
       "    </tr>\n",
       "    <tr>\n",
       "      <th>2</th>\n",
       "      <td>2022-05-16</td>\n",
       "      <td>2022-05-15</td>\n",
       "    </tr>\n",
       "    <tr>\n",
       "      <th>3</th>\n",
       "      <td>2022-08-22</td>\n",
       "      <td>2022-08-21</td>\n",
       "    </tr>\n",
       "    <tr>\n",
       "      <th>4</th>\n",
       "      <td>2022-03-15</td>\n",
       "      <td>2022-03-14</td>\n",
       "    </tr>\n",
       "    <tr>\n",
       "      <th>...</th>\n",
       "      <td>...</td>\n",
       "      <td>...</td>\n",
       "    </tr>\n",
       "    <tr>\n",
       "      <th>95</th>\n",
       "      <td>2022-01-04</td>\n",
       "      <td>2022-01-03</td>\n",
       "    </tr>\n",
       "    <tr>\n",
       "      <th>96</th>\n",
       "      <td>2022-03-24</td>\n",
       "      <td>2022-03-23</td>\n",
       "    </tr>\n",
       "    <tr>\n",
       "      <th>97</th>\n",
       "      <td>2022-08-28</td>\n",
       "      <td>2022-08-27</td>\n",
       "    </tr>\n",
       "    <tr>\n",
       "      <th>98</th>\n",
       "      <td>2022-01-31</td>\n",
       "      <td>2022-01-30</td>\n",
       "    </tr>\n",
       "    <tr>\n",
       "      <th>99</th>\n",
       "      <td>2022-05-16</td>\n",
       "      <td>2022-05-15</td>\n",
       "    </tr>\n",
       "  </tbody>\n",
       "</table>\n",
       "<p>100 rows × 2 columns</p>\n",
       "</div>"
      ],
      "text/plain": [
       "         date minus_1_day\n",
       "0  2022-03-27  2022-03-26\n",
       "1  2022-05-22  2022-05-21\n",
       "2  2022-05-16  2022-05-15\n",
       "3  2022-08-22  2022-08-21\n",
       "4  2022-03-15  2022-03-14\n",
       "..        ...         ...\n",
       "95 2022-01-04  2022-01-03\n",
       "96 2022-03-24  2022-03-23\n",
       "97 2022-08-28  2022-08-27\n",
       "98 2022-01-31  2022-01-30\n",
       "99 2022-05-16  2022-05-15\n",
       "\n",
       "[100 rows x 2 columns]"
      ]
     },
     "execution_count": 101,
     "metadata": {},
     "output_type": "execute_result"
    }
   ],
   "source": [
    "df['minus_1_day'] = df.date - pd.Timedelta(days=1)\n",
    "df"
   ]
  },
  {
   "cell_type": "code",
   "execution_count": 102,
   "id": "dc16797f",
   "metadata": {},
   "outputs": [
    {
     "data": {
      "text/html": [
       "<div>\n",
       "<style scoped>\n",
       "    .dataframe tbody tr th:only-of-type {\n",
       "        vertical-align: middle;\n",
       "    }\n",
       "\n",
       "    .dataframe tbody tr th {\n",
       "        vertical-align: top;\n",
       "    }\n",
       "\n",
       "    .dataframe thead th {\n",
       "        text-align: right;\n",
       "    }\n",
       "</style>\n",
       "<table border=\"1\" class=\"dataframe\">\n",
       "  <thead>\n",
       "    <tr style=\"text-align: right;\">\n",
       "      <th></th>\n",
       "      <th>date</th>\n",
       "      <th>minus_1_day</th>\n",
       "      <th>new_format</th>\n",
       "    </tr>\n",
       "  </thead>\n",
       "  <tbody>\n",
       "    <tr>\n",
       "      <th>0</th>\n",
       "      <td>2022-03-27</td>\n",
       "      <td>2022-03-26</td>\n",
       "      <td>Sat - March 26,2022</td>\n",
       "    </tr>\n",
       "    <tr>\n",
       "      <th>1</th>\n",
       "      <td>2022-05-22</td>\n",
       "      <td>2022-05-21</td>\n",
       "      <td>Sat - May 21,2022</td>\n",
       "    </tr>\n",
       "    <tr>\n",
       "      <th>2</th>\n",
       "      <td>2022-05-16</td>\n",
       "      <td>2022-05-15</td>\n",
       "      <td>Sun - May 15,2022</td>\n",
       "    </tr>\n",
       "    <tr>\n",
       "      <th>3</th>\n",
       "      <td>2022-08-22</td>\n",
       "      <td>2022-08-21</td>\n",
       "      <td>Sun - August 21,2022</td>\n",
       "    </tr>\n",
       "    <tr>\n",
       "      <th>4</th>\n",
       "      <td>2022-03-15</td>\n",
       "      <td>2022-03-14</td>\n",
       "      <td>Mon - March 14,2022</td>\n",
       "    </tr>\n",
       "    <tr>\n",
       "      <th>...</th>\n",
       "      <td>...</td>\n",
       "      <td>...</td>\n",
       "      <td>...</td>\n",
       "    </tr>\n",
       "    <tr>\n",
       "      <th>95</th>\n",
       "      <td>2022-01-04</td>\n",
       "      <td>2022-01-03</td>\n",
       "      <td>Mon - January 3,2022</td>\n",
       "    </tr>\n",
       "    <tr>\n",
       "      <th>96</th>\n",
       "      <td>2022-03-24</td>\n",
       "      <td>2022-03-23</td>\n",
       "      <td>Wed - March 23,2022</td>\n",
       "    </tr>\n",
       "    <tr>\n",
       "      <th>97</th>\n",
       "      <td>2022-08-28</td>\n",
       "      <td>2022-08-27</td>\n",
       "      <td>Sat - August 27,2022</td>\n",
       "    </tr>\n",
       "    <tr>\n",
       "      <th>98</th>\n",
       "      <td>2022-01-31</td>\n",
       "      <td>2022-01-30</td>\n",
       "      <td>Sun - January 30,2022</td>\n",
       "    </tr>\n",
       "    <tr>\n",
       "      <th>99</th>\n",
       "      <td>2022-05-16</td>\n",
       "      <td>2022-05-15</td>\n",
       "      <td>Sun - May 15,2022</td>\n",
       "    </tr>\n",
       "  </tbody>\n",
       "</table>\n",
       "<p>100 rows × 3 columns</p>\n",
       "</div>"
      ],
      "text/plain": [
       "         date minus_1_day             new_format\n",
       "0  2022-03-27  2022-03-26    Sat - March 26,2022\n",
       "1  2022-05-22  2022-05-21      Sat - May 21,2022\n",
       "2  2022-05-16  2022-05-15      Sun - May 15,2022\n",
       "3  2022-08-22  2022-08-21   Sun - August 21,2022\n",
       "4  2022-03-15  2022-03-14    Mon - March 14,2022\n",
       "..        ...         ...                    ...\n",
       "95 2022-01-04  2022-01-03   Mon - January 3,2022\n",
       "96 2022-03-24  2022-03-23    Wed - March 23,2022\n",
       "97 2022-08-28  2022-08-27   Sat - August 27,2022\n",
       "98 2022-01-31  2022-01-30  Sun - January 30,2022\n",
       "99 2022-05-16  2022-05-15      Sun - May 15,2022\n",
       "\n",
       "[100 rows x 3 columns]"
      ]
     },
     "execution_count": 102,
     "metadata": {},
     "output_type": "execute_result"
    }
   ],
   "source": [
    "# reformat day -- \"Sun - March 26, 2022\"\n",
    "df['new_format']=df.minus_1_day.dt.strftime('%a - %B %-d,%Y')\n",
    "df"
   ]
  },
  {
   "cell_type": "markdown",
   "id": "d49ffd4d",
   "metadata": {},
   "source": [
    "## Time to make it more complex!"
   ]
  },
  {
   "cell_type": "markdown",
   "id": "e21db49f",
   "metadata": {},
   "source": [
    "Scenario: We're looking at cryptocurrency close value and volume over time. "
   ]
  },
  {
   "cell_type": "code",
   "execution_count": 104,
   "id": "227f827e",
   "metadata": {},
   "outputs": [
    {
     "data": {
      "text/plain": [
       "Date       object\n",
       "Symbol     object\n",
       "Close     float64\n",
       "Volume    float64\n",
       "dtype: object"
      ]
     },
     "execution_count": 104,
     "metadata": {},
     "output_type": "execute_result"
    }
   ],
   "source": [
    "#save url\n",
    "sheet_url = 'https://docs.google.com/spreadsheets/d/1kTrAFSrr-xP3REs0Lly0TdV4ekrHahBXLg9r5qKxmV8/edit#gid=0'\n",
    "csv_export_url = sheet_url.replace('/edit#gid=', '/export?format=csv&gid=')\n",
    "\n",
    "#read in df\n",
    "df = pd.read_csv(csv_export_url)"
   ]
  },
  {
   "cell_type": "code",
   "execution_count": 115,
   "id": "a12cc50b",
   "metadata": {},
   "outputs": [
    {
     "name": "stdout",
     "output_type": "stream",
     "text": [
      "<class 'pandas.core.frame.DataFrame'>\n",
      "RangeIndex: 23674 entries, 0 to 23673\n",
      "Data columns (total 4 columns):\n",
      " #   Column  Non-Null Count  Dtype  \n",
      "---  ------  --------------  -----  \n",
      " 0   date    23674 non-null  object \n",
      " 1   symbol  23674 non-null  object \n",
      " 2   close   23674 non-null  float64\n",
      " 3   volume  23674 non-null  float64\n",
      "dtypes: float64(2), object(2)\n",
      "memory usage: 739.9+ KB\n"
     ]
    }
   ],
   "source": [
    "df.info()"
   ]
  },
  {
   "cell_type": "code",
   "execution_count": null,
   "id": "896f91c9",
   "metadata": {},
   "outputs": [],
   "source": [
    "#lowercase columns\n",
    "df.columns = df.columns.str.lower()"
   ]
  },
  {
   "cell_type": "markdown",
   "id": "bc4c1edf",
   "metadata": {},
   "source": [
    "#### let's plot the our close value"
   ]
  },
  {
   "cell_type": "code",
   "execution_count": 111,
   "id": "70b54804",
   "metadata": {},
   "outputs": [
    {
     "data": {
      "image/png": "[encoded data removed]",
      "text/plain": [
       "<Figure size 640x480 with 1 Axes>"
      ]
     },
     "metadata": {},
     "output_type": "display_data"
    }
   ],
   "source": [
    "#distribution\n",
    "df.close.hist()\n",
    "plt.title('close')\n",
    "plt.show()"
   ]
  },
  {
   "cell_type": "code",
   "execution_count": 113,
   "id": "dff192c9",
   "metadata": {},
   "outputs": [
    {
     "data": {
      "image/png": "[encoded data removed]",
      "text/plain": [
       "<Figure size 640x480 with 1 Axes>"
      ]
     },
     "metadata": {},
     "output_type": "display_data"
    }
   ],
   "source": [
    "#line plot\n",
    "df.close.plot()\n",
    "plt.title('the close values on a plot')\n",
    "plt.show()"
   ]
  },
  {
   "cell_type": "markdown",
   "id": "71b6bb22",
   "metadata": {},
   "source": [
    "<div class=\"alert alert-block alert-info\"> \n",
    "    \n",
    "<b>NOTE:</b> when we plot a single series using .plot(), the x-axis is the index value \n",
    "\n",
    "</div> \n",
    " \n",
    " "
   ]
  },
  {
   "cell_type": "markdown",
   "id": "b8d28d78",
   "metadata": {},
   "source": [
    "## How do we make pandas time aware?\n",
    "\n",
    "1. Convert 'date' column to datetime object\n",
    "2. Set the datetime column as index\n",
    "3. Sort the datetime index"
   ]
  },
  {
   "cell_type": "markdown",
   "id": "4a608f40",
   "metadata": {},
   "source": [
    "### 1. Convert 'date' column to datetime object"
   ]
  },
  {
   "cell_type": "code",
   "execution_count": 117,
   "id": "5365167f",
   "metadata": {},
   "outputs": [
    {
     "data": {
      "text/html": [
       "<div>\n",
       "<style scoped>\n",
       "    .dataframe tbody tr th:only-of-type {\n",
       "        vertical-align: middle;\n",
       "    }\n",
       "\n",
       "    .dataframe tbody tr th {\n",
       "        vertical-align: top;\n",
       "    }\n",
       "\n",
       "    .dataframe thead th {\n",
       "        text-align: right;\n",
       "    }\n",
       "</style>\n",
       "<table border=\"1\" class=\"dataframe\">\n",
       "  <thead>\n",
       "    <tr style=\"text-align: right;\">\n",
       "      <th></th>\n",
       "      <th>date</th>\n",
       "      <th>symbol</th>\n",
       "      <th>close</th>\n",
       "      <th>volume</th>\n",
       "    </tr>\n",
       "  </thead>\n",
       "  <tbody>\n",
       "    <tr>\n",
       "      <th>0</th>\n",
       "      <td>2020-03-13 12-PM</td>\n",
       "      <td>ETHUSD</td>\n",
       "      <td>128.71</td>\n",
       "      <td>3906590.52</td>\n",
       "    </tr>\n",
       "    <tr>\n",
       "      <th>1</th>\n",
       "      <td>2020-03-13 12-AM</td>\n",
       "      <td>ETHUSD</td>\n",
       "      <td>129.94</td>\n",
       "      <td>10329663.70</td>\n",
       "    </tr>\n",
       "    <tr>\n",
       "      <th>2</th>\n",
       "      <td>2020-03-13 11-AM</td>\n",
       "      <td>ETHUSD</td>\n",
       "      <td>119.51</td>\n",
       "      <td>3311080.29</td>\n",
       "    </tr>\n",
       "    <tr>\n",
       "      <th>3</th>\n",
       "      <td>2020-03-13 10-AM</td>\n",
       "      <td>ETHUSD</td>\n",
       "      <td>124.47</td>\n",
       "      <td>3483436.48</td>\n",
       "    </tr>\n",
       "    <tr>\n",
       "      <th>4</th>\n",
       "      <td>2020-03-13 09-AM</td>\n",
       "      <td>ETHUSD</td>\n",
       "      <td>124.08</td>\n",
       "      <td>2767584.44</td>\n",
       "    </tr>\n",
       "  </tbody>\n",
       "</table>\n",
       "</div>"
      ],
      "text/plain": [
       "               date  symbol   close       volume\n",
       "0  2020-03-13 12-PM  ETHUSD  128.71   3906590.52\n",
       "1  2020-03-13 12-AM  ETHUSD  129.94  10329663.70\n",
       "2  2020-03-13 11-AM  ETHUSD  119.51   3311080.29\n",
       "3  2020-03-13 10-AM  ETHUSD  124.47   3483436.48\n",
       "4  2020-03-13 09-AM  ETHUSD  124.08   2767584.44"
      ]
     },
     "execution_count": 117,
     "metadata": {},
     "output_type": "execute_result"
    }
   ],
   "source": [
    "df.head()"
   ]
  },
  {
   "cell_type": "code",
   "execution_count": 118,
   "id": "08fc5f8d",
   "metadata": {},
   "outputs": [],
   "source": [
    "# df.date.astype('datetime64')"
   ]
  },
  {
   "cell_type": "markdown",
   "id": "86e9329b",
   "metadata": {},
   "source": [
    "Reminder: format argument allows us to tell pandas the makeup of our date, so it can be understood"
   ]
  },
  {
   "cell_type": "code",
   "execution_count": 120,
   "id": "2aa54bdb",
   "metadata": {},
   "outputs": [],
   "source": [
    "df.date = pd.to_datetime(df.date, format='%Y-%m-%d %I-%p')"
   ]
  },
  {
   "cell_type": "code",
   "execution_count": 121,
   "id": "c93e5c41",
   "metadata": {},
   "outputs": [
    {
     "data": {
      "text/plain": [
       "date      datetime64[ns]\n",
       "symbol            object\n",
       "close            float64\n",
       "volume           float64\n",
       "dtype: object"
      ]
     },
     "execution_count": 121,
     "metadata": {},
     "output_type": "execute_result"
    }
   ],
   "source": [
    "df.dtypes"
   ]
  },
  {
   "cell_type": "code",
   "execution_count": 122,
   "id": "de92c660",
   "metadata": {},
   "outputs": [
    {
     "data": {
      "text/html": [
       "<div>\n",
       "<style scoped>\n",
       "    .dataframe tbody tr th:only-of-type {\n",
       "        vertical-align: middle;\n",
       "    }\n",
       "\n",
       "    .dataframe tbody tr th {\n",
       "        vertical-align: top;\n",
       "    }\n",
       "\n",
       "    .dataframe thead th {\n",
       "        text-align: right;\n",
       "    }\n",
       "</style>\n",
       "<table border=\"1\" class=\"dataframe\">\n",
       "  <thead>\n",
       "    <tr style=\"text-align: right;\">\n",
       "      <th></th>\n",
       "      <th>date</th>\n",
       "      <th>symbol</th>\n",
       "      <th>close</th>\n",
       "      <th>volume</th>\n",
       "    </tr>\n",
       "  </thead>\n",
       "  <tbody>\n",
       "    <tr>\n",
       "      <th>0</th>\n",
       "      <td>2020-03-13 12:00:00</td>\n",
       "      <td>ETHUSD</td>\n",
       "      <td>128.71</td>\n",
       "      <td>3906590.52</td>\n",
       "    </tr>\n",
       "    <tr>\n",
       "      <th>1</th>\n",
       "      <td>2020-03-13 00:00:00</td>\n",
       "      <td>ETHUSD</td>\n",
       "      <td>129.94</td>\n",
       "      <td>10329663.70</td>\n",
       "    </tr>\n",
       "    <tr>\n",
       "      <th>2</th>\n",
       "      <td>2020-03-13 11:00:00</td>\n",
       "      <td>ETHUSD</td>\n",
       "      <td>119.51</td>\n",
       "      <td>3311080.29</td>\n",
       "    </tr>\n",
       "    <tr>\n",
       "      <th>3</th>\n",
       "      <td>2020-03-13 10:00:00</td>\n",
       "      <td>ETHUSD</td>\n",
       "      <td>124.47</td>\n",
       "      <td>3483436.48</td>\n",
       "    </tr>\n",
       "    <tr>\n",
       "      <th>4</th>\n",
       "      <td>2020-03-13 09:00:00</td>\n",
       "      <td>ETHUSD</td>\n",
       "      <td>124.08</td>\n",
       "      <td>2767584.44</td>\n",
       "    </tr>\n",
       "  </tbody>\n",
       "</table>\n",
       "</div>"
      ],
      "text/plain": [
       "                 date  symbol   close       volume\n",
       "0 2020-03-13 12:00:00  ETHUSD  128.71   3906590.52\n",
       "1 2020-03-13 00:00:00  ETHUSD  129.94  10329663.70\n",
       "2 2020-03-13 11:00:00  ETHUSD  119.51   3311080.29\n",
       "3 2020-03-13 10:00:00  ETHUSD  124.47   3483436.48\n",
       "4 2020-03-13 09:00:00  ETHUSD  124.08   2767584.44"
      ]
     },
     "execution_count": 122,
     "metadata": {},
     "output_type": "execute_result"
    }
   ],
   "source": [
    "df.head()"
   ]
  },
  {
   "cell_type": "markdown",
   "id": "619f13ef",
   "metadata": {},
   "source": [
    "### 2. Set the datetime column as index"
   ]
  },
  {
   "cell_type": "code",
   "execution_count": 124,
   "id": "c9c77f4f",
   "metadata": {},
   "outputs": [
    {
     "data": {
      "text/html": [
       "<div>\n",
       "<style scoped>\n",
       "    .dataframe tbody tr th:only-of-type {\n",
       "        vertical-align: middle;\n",
       "    }\n",
       "\n",
       "    .dataframe tbody tr th {\n",
       "        vertical-align: top;\n",
       "    }\n",
       "\n",
       "    .dataframe thead th {\n",
       "        text-align: right;\n",
       "    }\n",
       "</style>\n",
       "<table border=\"1\" class=\"dataframe\">\n",
       "  <thead>\n",
       "    <tr style=\"text-align: right;\">\n",
       "      <th></th>\n",
       "      <th>symbol</th>\n",
       "      <th>close</th>\n",
       "      <th>volume</th>\n",
       "    </tr>\n",
       "    <tr>\n",
       "      <th>date</th>\n",
       "      <th></th>\n",
       "      <th></th>\n",
       "      <th></th>\n",
       "    </tr>\n",
       "  </thead>\n",
       "  <tbody>\n",
       "    <tr>\n",
       "      <th>2020-03-13 12:00:00</th>\n",
       "      <td>ETHUSD</td>\n",
       "      <td>128.71</td>\n",
       "      <td>3906590.52</td>\n",
       "    </tr>\n",
       "    <tr>\n",
       "      <th>2020-03-13 00:00:00</th>\n",
       "      <td>ETHUSD</td>\n",
       "      <td>129.94</td>\n",
       "      <td>10329663.70</td>\n",
       "    </tr>\n",
       "    <tr>\n",
       "      <th>2020-03-13 11:00:00</th>\n",
       "      <td>ETHUSD</td>\n",
       "      <td>119.51</td>\n",
       "      <td>3311080.29</td>\n",
       "    </tr>\n",
       "    <tr>\n",
       "      <th>2020-03-13 10:00:00</th>\n",
       "      <td>ETHUSD</td>\n",
       "      <td>124.47</td>\n",
       "      <td>3483436.48</td>\n",
       "    </tr>\n",
       "    <tr>\n",
       "      <th>2020-03-13 09:00:00</th>\n",
       "      <td>ETHUSD</td>\n",
       "      <td>124.08</td>\n",
       "      <td>2767584.44</td>\n",
       "    </tr>\n",
       "  </tbody>\n",
       "</table>\n",
       "</div>"
      ],
      "text/plain": [
       "                     symbol   close       volume\n",
       "date                                            \n",
       "2020-03-13 12:00:00  ETHUSD  128.71   3906590.52\n",
       "2020-03-13 00:00:00  ETHUSD  129.94  10329663.70\n",
       "2020-03-13 11:00:00  ETHUSD  119.51   3311080.29\n",
       "2020-03-13 10:00:00  ETHUSD  124.47   3483436.48\n",
       "2020-03-13 09:00:00  ETHUSD  124.08   2767584.44"
      ]
     },
     "execution_count": 124,
     "metadata": {},
     "output_type": "execute_result"
    }
   ],
   "source": [
    "df = df.set_index('date')\n",
    "df.head()"
   ]
  },
  {
   "cell_type": "markdown",
   "id": "95a06a90",
   "metadata": {},
   "source": [
    "### 3. Sort the datetime index"
   ]
  },
  {
   "cell_type": "code",
   "execution_count": 126,
   "id": "46b9cb5a",
   "metadata": {},
   "outputs": [
    {
     "data": {
      "text/html": [
       "<div>\n",
       "<style scoped>\n",
       "    .dataframe tbody tr th:only-of-type {\n",
       "        vertical-align: middle;\n",
       "    }\n",
       "\n",
       "    .dataframe tbody tr th {\n",
       "        vertical-align: top;\n",
       "    }\n",
       "\n",
       "    .dataframe thead th {\n",
       "        text-align: right;\n",
       "    }\n",
       "</style>\n",
       "<table border=\"1\" class=\"dataframe\">\n",
       "  <thead>\n",
       "    <tr style=\"text-align: right;\">\n",
       "      <th></th>\n",
       "      <th>symbol</th>\n",
       "      <th>close</th>\n",
       "      <th>volume</th>\n",
       "    </tr>\n",
       "    <tr>\n",
       "      <th>date</th>\n",
       "      <th></th>\n",
       "      <th></th>\n",
       "      <th></th>\n",
       "    </tr>\n",
       "  </thead>\n",
       "  <tbody>\n",
       "    <tr>\n",
       "      <th>2017-07-01 11:00:00</th>\n",
       "      <td>ETHUSD</td>\n",
       "      <td>257.13</td>\n",
       "      <td>679358.87</td>\n",
       "    </tr>\n",
       "    <tr>\n",
       "      <th>2017-07-01 12:00:00</th>\n",
       "      <td>ETHUSD</td>\n",
       "      <td>263.12</td>\n",
       "      <td>824362.87</td>\n",
       "    </tr>\n",
       "    <tr>\n",
       "      <th>2017-07-01 13:00:00</th>\n",
       "      <td>ETHUSD</td>\n",
       "      <td>275.01</td>\n",
       "      <td>3010787.99</td>\n",
       "    </tr>\n",
       "    <tr>\n",
       "      <th>2017-07-01 14:00:00</th>\n",
       "      <td>ETHUSD</td>\n",
       "      <td>274.83</td>\n",
       "      <td>1702536.85</td>\n",
       "    </tr>\n",
       "    <tr>\n",
       "      <th>2017-07-01 15:00:00</th>\n",
       "      <td>ETHUSD</td>\n",
       "      <td>268.79</td>\n",
       "      <td>1500282.55</td>\n",
       "    </tr>\n",
       "  </tbody>\n",
       "</table>\n",
       "</div>"
      ],
      "text/plain": [
       "                     symbol   close      volume\n",
       "date                                           \n",
       "2017-07-01 11:00:00  ETHUSD  257.13   679358.87\n",
       "2017-07-01 12:00:00  ETHUSD  263.12   824362.87\n",
       "2017-07-01 13:00:00  ETHUSD  275.01  3010787.99\n",
       "2017-07-01 14:00:00  ETHUSD  274.83  1702536.85\n",
       "2017-07-01 15:00:00  ETHUSD  268.79  1500282.55"
      ]
     },
     "execution_count": 126,
     "metadata": {},
     "output_type": "execute_result"
    }
   ],
   "source": [
    "df = df.sort_index()\n",
    "df.head()"
   ]
  },
  {
   "cell_type": "markdown",
   "id": "d43dce22",
   "metadata": {},
   "source": [
    "#### Now let's plot it again!"
   ]
  },
  {
   "cell_type": "code",
   "execution_count": 127,
   "id": "b28f64b6",
   "metadata": {},
   "outputs": [
    {
     "data": {
      "image/png": "[encoded data removed]",
      "text/plain": [
       "<Figure size 640x480 with 1 Axes>"
      ]
     },
     "metadata": {},
     "output_type": "display_data"
    }
   ],
   "source": [
    "#line plot\n",
    "\n",
    "df.close.plot()\n",
    "\n",
    "plt.title('the close value over time')\n",
    "plt.show()"
   ]
  },
  {
   "cell_type": "markdown",
   "id": "f7dab61f",
   "metadata": {},
   "source": [
    "Q: Why is the graph different now?"
   ]
  },
  {
   "cell_type": "markdown",
   "id": "6198598c",
   "metadata": {},
   "source": [
    "## Let's look at the the mean close value on each day of the week"
   ]
  },
  {
   "cell_type": "markdown",
   "id": "cfe2e01b",
   "metadata": {},
   "source": [
    "<div class=\"alert alert-block alert-info\"> <b>NOTE:</b> when the datetime is an index, we don't use <code>.dt</code> to use datetime methods/attributes</div>"
   ]
  },
  {
   "cell_type": "code",
   "execution_count": 144,
   "id": "81744a87",
   "metadata": {},
   "outputs": [],
   "source": [
    "#pull out weekday name & save\n",
    "df['weekday'] = df.index.day_name()"
   ]
  },
  {
   "cell_type": "markdown",
   "id": "64d68b78",
   "metadata": {},
   "source": [
    "#### let's plot it!"
   ]
  },
  {
   "cell_type": "code",
   "execution_count": 155,
   "id": "cc869953",
   "metadata": {},
   "outputs": [],
   "source": [
    "# plt.figure(figsize=(10,6))\n",
    "\n",
    "# # df.groupby('weekday').mean().sort_values()\n",
    "\n",
    "# plt.title('the mean close value each day of the week')\n",
    "# plt.show()"
   ]
  },
  {
   "cell_type": "markdown",
   "id": "8a8054b0",
   "metadata": {},
   "source": [
    "### I don't like that the days aren't in order"
   ]
  },
  {
   "cell_type": "code",
   "execution_count": 149,
   "id": "786e6ca1",
   "metadata": {
    "scrolled": true
   },
   "outputs": [
    {
     "data": {
      "text/html": [
       "<div>\n",
       "<style scoped>\n",
       "    .dataframe tbody tr th:only-of-type {\n",
       "        vertical-align: middle;\n",
       "    }\n",
       "\n",
       "    .dataframe tbody tr th {\n",
       "        vertical-align: top;\n",
       "    }\n",
       "\n",
       "    .dataframe thead th {\n",
       "        text-align: right;\n",
       "    }\n",
       "</style>\n",
       "<table border=\"1\" class=\"dataframe\">\n",
       "  <thead>\n",
       "    <tr style=\"text-align: right;\">\n",
       "      <th></th>\n",
       "      <th>symbol</th>\n",
       "      <th>close</th>\n",
       "      <th>volume</th>\n",
       "      <th>weekday</th>\n",
       "      <th>dayofweek</th>\n",
       "    </tr>\n",
       "    <tr>\n",
       "      <th>date</th>\n",
       "      <th></th>\n",
       "      <th></th>\n",
       "      <th></th>\n",
       "      <th></th>\n",
       "      <th></th>\n",
       "    </tr>\n",
       "  </thead>\n",
       "  <tbody>\n",
       "    <tr>\n",
       "      <th>2017-07-01 11:00:00</th>\n",
       "      <td>ETHUSD</td>\n",
       "      <td>257.13</td>\n",
       "      <td>679358.87</td>\n",
       "      <td>Saturday</td>\n",
       "      <td>5</td>\n",
       "    </tr>\n",
       "    <tr>\n",
       "      <th>2017-07-01 12:00:00</th>\n",
       "      <td>ETHUSD</td>\n",
       "      <td>263.12</td>\n",
       "      <td>824362.87</td>\n",
       "      <td>Saturday</td>\n",
       "      <td>5</td>\n",
       "    </tr>\n",
       "    <tr>\n",
       "      <th>2017-07-01 13:00:00</th>\n",
       "      <td>ETHUSD</td>\n",
       "      <td>275.01</td>\n",
       "      <td>3010787.99</td>\n",
       "      <td>Saturday</td>\n",
       "      <td>5</td>\n",
       "    </tr>\n",
       "    <tr>\n",
       "      <th>2017-07-01 14:00:00</th>\n",
       "      <td>ETHUSD</td>\n",
       "      <td>274.83</td>\n",
       "      <td>1702536.85</td>\n",
       "      <td>Saturday</td>\n",
       "      <td>5</td>\n",
       "    </tr>\n",
       "    <tr>\n",
       "      <th>2017-07-01 15:00:00</th>\n",
       "      <td>ETHUSD</td>\n",
       "      <td>268.79</td>\n",
       "      <td>1500282.55</td>\n",
       "      <td>Saturday</td>\n",
       "      <td>5</td>\n",
       "    </tr>\n",
       "    <tr>\n",
       "      <th>...</th>\n",
       "      <td>...</td>\n",
       "      <td>...</td>\n",
       "      <td>...</td>\n",
       "      <td>...</td>\n",
       "      <td>...</td>\n",
       "    </tr>\n",
       "    <tr>\n",
       "      <th>2020-03-13 16:00:00</th>\n",
       "      <td>ETHUSD</td>\n",
       "      <td>127.57</td>\n",
       "      <td>4461424.71</td>\n",
       "      <td>Friday</td>\n",
       "      <td>4</td>\n",
       "    </tr>\n",
       "    <tr>\n",
       "      <th>2020-03-13 17:00:00</th>\n",
       "      <td>ETHUSD</td>\n",
       "      <td>133.80</td>\n",
       "      <td>2753450.92</td>\n",
       "      <td>Friday</td>\n",
       "      <td>4</td>\n",
       "    </tr>\n",
       "    <tr>\n",
       "      <th>2020-03-13 18:00:00</th>\n",
       "      <td>ETHUSD</td>\n",
       "      <td>128.93</td>\n",
       "      <td>4898735.81</td>\n",
       "      <td>Friday</td>\n",
       "      <td>4</td>\n",
       "    </tr>\n",
       "    <tr>\n",
       "      <th>2020-03-13 19:00:00</th>\n",
       "      <td>ETHUSD</td>\n",
       "      <td>134.03</td>\n",
       "      <td>7579741.09</td>\n",
       "      <td>Friday</td>\n",
       "      <td>4</td>\n",
       "    </tr>\n",
       "    <tr>\n",
       "      <th>2020-03-13 20:00:00</th>\n",
       "      <td>ETHUSD</td>\n",
       "      <td>124.85</td>\n",
       "      <td>1940673.93</td>\n",
       "      <td>Friday</td>\n",
       "      <td>4</td>\n",
       "    </tr>\n",
       "  </tbody>\n",
       "</table>\n",
       "<p>23674 rows × 5 columns</p>\n",
       "</div>"
      ],
      "text/plain": [
       "                     symbol   close      volume   weekday  dayofweek\n",
       "date                                                                \n",
       "2017-07-01 11:00:00  ETHUSD  257.13   679358.87  Saturday          5\n",
       "2017-07-01 12:00:00  ETHUSD  263.12   824362.87  Saturday          5\n",
       "2017-07-01 13:00:00  ETHUSD  275.01  3010787.99  Saturday          5\n",
       "2017-07-01 14:00:00  ETHUSD  274.83  1702536.85  Saturday          5\n",
       "2017-07-01 15:00:00  ETHUSD  268.79  1500282.55  Saturday          5\n",
       "...                     ...     ...         ...       ...        ...\n",
       "2020-03-13 16:00:00  ETHUSD  127.57  4461424.71    Friday          4\n",
       "2020-03-13 17:00:00  ETHUSD  133.80  2753450.92    Friday          4\n",
       "2020-03-13 18:00:00  ETHUSD  128.93  4898735.81    Friday          4\n",
       "2020-03-13 19:00:00  ETHUSD  134.03  7579741.09    Friday          4\n",
       "2020-03-13 20:00:00  ETHUSD  124.85  1940673.93    Friday          4\n",
       "\n",
       "[23674 rows x 5 columns]"
      ]
     },
     "execution_count": 149,
     "metadata": {},
     "output_type": "execute_result"
    }
   ],
   "source": [
    "#use dayofweek attribute\n",
    "df['dayofweek'] = df.index.dayofweek\n",
    "df"
   ]
  },
  {
   "cell_type": "markdown",
   "id": "38561135",
   "metadata": {},
   "source": [
    "#### let's plot it better this time!"
   ]
  },
  {
   "cell_type": "code",
   "execution_count": 147,
   "id": "94093c17",
   "metadata": {},
   "outputs": [
    {
     "data": {
      "image/png": "[encoded data removed]",
      "text/plain": [
       "<Figure size 1000x600 with 1 Axes>"
      ]
     },
     "metadata": {},
     "output_type": "display_data"
    }
   ],
   "source": [
    "plt.figure(figsize=(10,6))\n",
    "df.groupby('weekday').mean().sort_values('dayofweek').close.plot()\n",
    "\n",
    "plt.title('the mean close value each day of the week')\n",
    "plt.show()"
   ]
  },
  {
   "cell_type": "markdown",
   "id": "d252d632",
   "metadata": {},
   "source": [
    "## How do we get a subset of the dataframe?"
   ]
  },
  {
   "cell_type": "markdown",
   "id": "07863eb8",
   "metadata": {},
   "source": [
    "`.loc` vs `.iloc`\n",
    "\n",
    "- loc subsets based on NAME\n",
    "- iloc subsets based on POSITION\n",
    "\n",
    "Why is this helpful?\n",
    "- we can use `.loc` to name a date or range of dates to subset our df"
   ]
  },
  {
   "cell_type": "code",
   "execution_count": 156,
   "id": "f5361e39",
   "metadata": {},
   "outputs": [
    {
     "data": {
      "text/plain": [
       "symbol          ETHUSD\n",
       "close           263.12\n",
       "volume       824362.87\n",
       "weekday       Saturday\n",
       "dayofweek            5\n",
       "Name: 2017-07-01 12:00:00, dtype: object"
      ]
     },
     "execution_count": 156,
     "metadata": {},
     "output_type": "execute_result"
    }
   ],
   "source": [
    "#single .loc value\n",
    "df.loc['2017-07-01 12:00:00']"
   ]
  },
  {
   "cell_type": "code",
   "execution_count": 159,
   "id": "7d68da1d",
   "metadata": {},
   "outputs": [
    {
     "data": {
      "text/html": [
       "<div>\n",
       "<style scoped>\n",
       "    .dataframe tbody tr th:only-of-type {\n",
       "        vertical-align: middle;\n",
       "    }\n",
       "\n",
       "    .dataframe tbody tr th {\n",
       "        vertical-align: top;\n",
       "    }\n",
       "\n",
       "    .dataframe thead th {\n",
       "        text-align: right;\n",
       "    }\n",
       "</style>\n",
       "<table border=\"1\" class=\"dataframe\">\n",
       "  <thead>\n",
       "    <tr style=\"text-align: right;\">\n",
       "      <th></th>\n",
       "      <th>symbol</th>\n",
       "      <th>close</th>\n",
       "      <th>volume</th>\n",
       "      <th>weekday</th>\n",
       "      <th>dayofweek</th>\n",
       "    </tr>\n",
       "    <tr>\n",
       "      <th>date</th>\n",
       "      <th></th>\n",
       "      <th></th>\n",
       "      <th></th>\n",
       "      <th></th>\n",
       "      <th></th>\n",
       "    </tr>\n",
       "  </thead>\n",
       "  <tbody>\n",
       "    <tr>\n",
       "      <th>2017-07-01 11:00:00</th>\n",
       "      <td>ETHUSD</td>\n",
       "      <td>257.13</td>\n",
       "      <td>679358.87</td>\n",
       "      <td>Saturday</td>\n",
       "      <td>5</td>\n",
       "    </tr>\n",
       "    <tr>\n",
       "      <th>2017-07-01 12:00:00</th>\n",
       "      <td>ETHUSD</td>\n",
       "      <td>263.12</td>\n",
       "      <td>824362.87</td>\n",
       "      <td>Saturday</td>\n",
       "      <td>5</td>\n",
       "    </tr>\n",
       "    <tr>\n",
       "      <th>2017-07-01 13:00:00</th>\n",
       "      <td>ETHUSD</td>\n",
       "      <td>275.01</td>\n",
       "      <td>3010787.99</td>\n",
       "      <td>Saturday</td>\n",
       "      <td>5</td>\n",
       "    </tr>\n",
       "    <tr>\n",
       "      <th>2017-07-01 14:00:00</th>\n",
       "      <td>ETHUSD</td>\n",
       "      <td>274.83</td>\n",
       "      <td>1702536.85</td>\n",
       "      <td>Saturday</td>\n",
       "      <td>5</td>\n",
       "    </tr>\n",
       "    <tr>\n",
       "      <th>2017-07-01 15:00:00</th>\n",
       "      <td>ETHUSD</td>\n",
       "      <td>268.79</td>\n",
       "      <td>1500282.55</td>\n",
       "      <td>Saturday</td>\n",
       "      <td>5</td>\n",
       "    </tr>\n",
       "    <tr>\n",
       "      <th>...</th>\n",
       "      <td>...</td>\n",
       "      <td>...</td>\n",
       "      <td>...</td>\n",
       "      <td>...</td>\n",
       "      <td>...</td>\n",
       "    </tr>\n",
       "    <tr>\n",
       "      <th>2017-07-31 19:00:00</th>\n",
       "      <td>ETHUSD</td>\n",
       "      <td>194.56</td>\n",
       "      <td>1625092.78</td>\n",
       "      <td>Monday</td>\n",
       "      <td>0</td>\n",
       "    </tr>\n",
       "    <tr>\n",
       "      <th>2017-07-31 20:00:00</th>\n",
       "      <td>ETHUSD</td>\n",
       "      <td>194.43</td>\n",
       "      <td>1337140.19</td>\n",
       "      <td>Monday</td>\n",
       "      <td>0</td>\n",
       "    </tr>\n",
       "    <tr>\n",
       "      <th>2017-07-31 21:00:00</th>\n",
       "      <td>ETHUSD</td>\n",
       "      <td>196.91</td>\n",
       "      <td>1850976.27</td>\n",
       "      <td>Monday</td>\n",
       "      <td>0</td>\n",
       "    </tr>\n",
       "    <tr>\n",
       "      <th>2017-07-31 22:00:00</th>\n",
       "      <td>ETHUSD</td>\n",
       "      <td>198.45</td>\n",
       "      <td>889082.69</td>\n",
       "      <td>Monday</td>\n",
       "      <td>0</td>\n",
       "    </tr>\n",
       "    <tr>\n",
       "      <th>2017-07-31 23:00:00</th>\n",
       "      <td>ETHUSD</td>\n",
       "      <td>200.00</td>\n",
       "      <td>943594.40</td>\n",
       "      <td>Monday</td>\n",
       "      <td>0</td>\n",
       "    </tr>\n",
       "  </tbody>\n",
       "</table>\n",
       "<p>733 rows × 5 columns</p>\n",
       "</div>"
      ],
      "text/plain": [
       "                     symbol   close      volume   weekday  dayofweek\n",
       "date                                                                \n",
       "2017-07-01 11:00:00  ETHUSD  257.13   679358.87  Saturday          5\n",
       "2017-07-01 12:00:00  ETHUSD  263.12   824362.87  Saturday          5\n",
       "2017-07-01 13:00:00  ETHUSD  275.01  3010787.99  Saturday          5\n",
       "2017-07-01 14:00:00  ETHUSD  274.83  1702536.85  Saturday          5\n",
       "2017-07-01 15:00:00  ETHUSD  268.79  1500282.55  Saturday          5\n",
       "...                     ...     ...         ...       ...        ...\n",
       "2017-07-31 19:00:00  ETHUSD  194.56  1625092.78    Monday          0\n",
       "2017-07-31 20:00:00  ETHUSD  194.43  1337140.19    Monday          0\n",
       "2017-07-31 21:00:00  ETHUSD  196.91  1850976.27    Monday          0\n",
       "2017-07-31 22:00:00  ETHUSD  198.45   889082.69    Monday          0\n",
       "2017-07-31 23:00:00  ETHUSD  200.00   943594.40    Monday          0\n",
       "\n",
       "[733 rows x 5 columns]"
      ]
     },
     "execution_count": 159,
     "metadata": {},
     "output_type": "execute_result"
    }
   ],
   "source": [
    "df.loc['2017-07']"
   ]
  },
  {
   "cell_type": "code",
   "execution_count": 160,
   "id": "4861d432",
   "metadata": {},
   "outputs": [
    {
     "data": {
      "text/html": [
       "<div>\n",
       "<style scoped>\n",
       "    .dataframe tbody tr th:only-of-type {\n",
       "        vertical-align: middle;\n",
       "    }\n",
       "\n",
       "    .dataframe tbody tr th {\n",
       "        vertical-align: top;\n",
       "    }\n",
       "\n",
       "    .dataframe thead th {\n",
       "        text-align: right;\n",
       "    }\n",
       "</style>\n",
       "<table border=\"1\" class=\"dataframe\">\n",
       "  <thead>\n",
       "    <tr style=\"text-align: right;\">\n",
       "      <th></th>\n",
       "      <th>symbol</th>\n",
       "      <th>close</th>\n",
       "      <th>volume</th>\n",
       "      <th>weekday</th>\n",
       "      <th>dayofweek</th>\n",
       "    </tr>\n",
       "    <tr>\n",
       "      <th>date</th>\n",
       "      <th></th>\n",
       "      <th></th>\n",
       "      <th></th>\n",
       "      <th></th>\n",
       "      <th></th>\n",
       "    </tr>\n",
       "  </thead>\n",
       "  <tbody>\n",
       "    <tr>\n",
       "      <th>2017-07-01 11:00:00</th>\n",
       "      <td>ETHUSD</td>\n",
       "      <td>257.13</td>\n",
       "      <td>679358.87</td>\n",
       "      <td>Saturday</td>\n",
       "      <td>5</td>\n",
       "    </tr>\n",
       "    <tr>\n",
       "      <th>2017-07-01 12:00:00</th>\n",
       "      <td>ETHUSD</td>\n",
       "      <td>263.12</td>\n",
       "      <td>824362.87</td>\n",
       "      <td>Saturday</td>\n",
       "      <td>5</td>\n",
       "    </tr>\n",
       "    <tr>\n",
       "      <th>2017-07-01 13:00:00</th>\n",
       "      <td>ETHUSD</td>\n",
       "      <td>275.01</td>\n",
       "      <td>3010787.99</td>\n",
       "      <td>Saturday</td>\n",
       "      <td>5</td>\n",
       "    </tr>\n",
       "    <tr>\n",
       "      <th>2017-07-01 14:00:00</th>\n",
       "      <td>ETHUSD</td>\n",
       "      <td>274.83</td>\n",
       "      <td>1702536.85</td>\n",
       "      <td>Saturday</td>\n",
       "      <td>5</td>\n",
       "    </tr>\n",
       "    <tr>\n",
       "      <th>2017-07-01 15:00:00</th>\n",
       "      <td>ETHUSD</td>\n",
       "      <td>268.79</td>\n",
       "      <td>1500282.55</td>\n",
       "      <td>Saturday</td>\n",
       "      <td>5</td>\n",
       "    </tr>\n",
       "    <tr>\n",
       "      <th>...</th>\n",
       "      <td>...</td>\n",
       "      <td>...</td>\n",
       "      <td>...</td>\n",
       "      <td>...</td>\n",
       "      <td>...</td>\n",
       "    </tr>\n",
       "    <tr>\n",
       "      <th>2017-09-30 19:00:00</th>\n",
       "      <td>ETHUSD</td>\n",
       "      <td>302.79</td>\n",
       "      <td>301850.54</td>\n",
       "      <td>Saturday</td>\n",
       "      <td>5</td>\n",
       "    </tr>\n",
       "    <tr>\n",
       "      <th>2017-09-30 20:00:00</th>\n",
       "      <td>ETHUSD</td>\n",
       "      <td>302.97</td>\n",
       "      <td>737006.90</td>\n",
       "      <td>Saturday</td>\n",
       "      <td>5</td>\n",
       "    </tr>\n",
       "    <tr>\n",
       "      <th>2017-09-30 21:00:00</th>\n",
       "      <td>ETHUSD</td>\n",
       "      <td>300.10</td>\n",
       "      <td>1407368.63</td>\n",
       "      <td>Saturday</td>\n",
       "      <td>5</td>\n",
       "    </tr>\n",
       "    <tr>\n",
       "      <th>2017-09-30 22:00:00</th>\n",
       "      <td>ETHUSD</td>\n",
       "      <td>301.57</td>\n",
       "      <td>531087.77</td>\n",
       "      <td>Saturday</td>\n",
       "      <td>5</td>\n",
       "    </tr>\n",
       "    <tr>\n",
       "      <th>2017-09-30 23:00:00</th>\n",
       "      <td>ETHUSD</td>\n",
       "      <td>299.14</td>\n",
       "      <td>478343.16</td>\n",
       "      <td>Saturday</td>\n",
       "      <td>5</td>\n",
       "    </tr>\n",
       "  </tbody>\n",
       "</table>\n",
       "<p>2197 rows × 5 columns</p>\n",
       "</div>"
      ],
      "text/plain": [
       "                     symbol   close      volume   weekday  dayofweek\n",
       "date                                                                \n",
       "2017-07-01 11:00:00  ETHUSD  257.13   679358.87  Saturday          5\n",
       "2017-07-01 12:00:00  ETHUSD  263.12   824362.87  Saturday          5\n",
       "2017-07-01 13:00:00  ETHUSD  275.01  3010787.99  Saturday          5\n",
       "2017-07-01 14:00:00  ETHUSD  274.83  1702536.85  Saturday          5\n",
       "2017-07-01 15:00:00  ETHUSD  268.79  1500282.55  Saturday          5\n",
       "...                     ...     ...         ...       ...        ...\n",
       "2017-09-30 19:00:00  ETHUSD  302.79   301850.54  Saturday          5\n",
       "2017-09-30 20:00:00  ETHUSD  302.97   737006.90  Saturday          5\n",
       "2017-09-30 21:00:00  ETHUSD  300.10  1407368.63  Saturday          5\n",
       "2017-09-30 22:00:00  ETHUSD  301.57   531087.77  Saturday          5\n",
       "2017-09-30 23:00:00  ETHUSD  299.14   478343.16  Saturday          5\n",
       "\n",
       "[2197 rows x 5 columns]"
      ]
     },
     "execution_count": 160,
     "metadata": {},
     "output_type": "execute_result"
    }
   ],
   "source": [
    "#range of .loc values \n",
    "df.loc['2017-07': '2017-09']"
   ]
  },
  {
   "cell_type": "markdown",
   "id": "308b5bcc",
   "metadata": {},
   "source": [
    "## What if we want a different period of data?\n",
    "- downsampling\n",
    "- upsampling\n",
    "- resampling\n",
    "- rolling averages\n",
    "- shift/difference"
   ]
  },
  {
   "cell_type": "code",
   "execution_count": 192,
   "id": "273129be",
   "metadata": {},
   "outputs": [
    {
     "data": {
      "text/html": [
       "<div>\n",
       "<style scoped>\n",
       "    .dataframe tbody tr th:only-of-type {\n",
       "        vertical-align: middle;\n",
       "    }\n",
       "\n",
       "    .dataframe tbody tr th {\n",
       "        vertical-align: top;\n",
       "    }\n",
       "\n",
       "    .dataframe thead th {\n",
       "        text-align: right;\n",
       "    }\n",
       "</style>\n",
       "<table border=\"1\" class=\"dataframe\">\n",
       "  <thead>\n",
       "    <tr style=\"text-align: right;\">\n",
       "      <th></th>\n",
       "      <th>close</th>\n",
       "    </tr>\n",
       "    <tr>\n",
       "      <th>date</th>\n",
       "      <th></th>\n",
       "    </tr>\n",
       "  </thead>\n",
       "  <tbody>\n",
       "    <tr>\n",
       "      <th>2017-07-01 11:00:00</th>\n",
       "      <td>257.13</td>\n",
       "    </tr>\n",
       "    <tr>\n",
       "      <th>2017-07-01 12:00:00</th>\n",
       "      <td>263.12</td>\n",
       "    </tr>\n",
       "    <tr>\n",
       "      <th>2017-07-01 13:00:00</th>\n",
       "      <td>275.01</td>\n",
       "    </tr>\n",
       "    <tr>\n",
       "      <th>2017-07-01 14:00:00</th>\n",
       "      <td>274.83</td>\n",
       "    </tr>\n",
       "    <tr>\n",
       "      <th>2017-07-01 15:00:00</th>\n",
       "      <td>268.79</td>\n",
       "    </tr>\n",
       "  </tbody>\n",
       "</table>\n",
       "</div>"
      ],
      "text/plain": [
       "                      close\n",
       "date                       \n",
       "2017-07-01 11:00:00  257.13\n",
       "2017-07-01 12:00:00  263.12\n",
       "2017-07-01 13:00:00  275.01\n",
       "2017-07-01 14:00:00  274.83\n",
       "2017-07-01 15:00:00  268.79"
      ]
     },
     "execution_count": 192,
     "metadata": {},
     "output_type": "execute_result"
    }
   ],
   "source": [
    "#drop extra columns\n",
    "df = df[['close']]\n",
    "df.head()"
   ]
  },
  {
   "cell_type": "markdown",
   "id": "41461902",
   "metadata": {},
   "source": [
    "### Downsampling: reduce frequency"
   ]
  },
  {
   "cell_type": "markdown",
   "id": "ce965e23",
   "metadata": {},
   "source": [
    "reduce the number of rows by removing more precise units of time\n",
    "- use `asfreq` to change the period"
   ]
  },
  {
   "cell_type": "markdown",
   "id": "f65a16ec",
   "metadata": {},
   "source": [
    "#### Example: the level of granularity of our data is currently to the hour"
   ]
  },
  {
   "cell_type": "code",
   "execution_count": 193,
   "id": "6f0fda5a",
   "metadata": {},
   "outputs": [
    {
     "data": {
      "text/html": [
       "<div>\n",
       "<style scoped>\n",
       "    .dataframe tbody tr th:only-of-type {\n",
       "        vertical-align: middle;\n",
       "    }\n",
       "\n",
       "    .dataframe tbody tr th {\n",
       "        vertical-align: top;\n",
       "    }\n",
       "\n",
       "    .dataframe thead th {\n",
       "        text-align: right;\n",
       "    }\n",
       "</style>\n",
       "<table border=\"1\" class=\"dataframe\">\n",
       "  <thead>\n",
       "    <tr style=\"text-align: right;\">\n",
       "      <th></th>\n",
       "      <th>close</th>\n",
       "    </tr>\n",
       "    <tr>\n",
       "      <th>date</th>\n",
       "      <th></th>\n",
       "    </tr>\n",
       "  </thead>\n",
       "  <tbody>\n",
       "    <tr>\n",
       "      <th>2017-07-01 11:00:00</th>\n",
       "      <td>257.13</td>\n",
       "    </tr>\n",
       "    <tr>\n",
       "      <th>2017-07-01 12:00:00</th>\n",
       "      <td>263.12</td>\n",
       "    </tr>\n",
       "    <tr>\n",
       "      <th>2017-07-01 13:00:00</th>\n",
       "      <td>275.01</td>\n",
       "    </tr>\n",
       "    <tr>\n",
       "      <th>2017-07-01 14:00:00</th>\n",
       "      <td>274.83</td>\n",
       "    </tr>\n",
       "    <tr>\n",
       "      <th>2017-07-01 15:00:00</th>\n",
       "      <td>268.79</td>\n",
       "    </tr>\n",
       "  </tbody>\n",
       "</table>\n",
       "</div>"
      ],
      "text/plain": [
       "                      close\n",
       "date                       \n",
       "2017-07-01 11:00:00  257.13\n",
       "2017-07-01 12:00:00  263.12\n",
       "2017-07-01 13:00:00  275.01\n",
       "2017-07-01 14:00:00  274.83\n",
       "2017-07-01 15:00:00  268.79"
      ]
     },
     "execution_count": 193,
     "metadata": {},
     "output_type": "execute_result"
    }
   ],
   "source": [
    "df.head()"
   ]
  },
  {
   "cell_type": "markdown",
   "id": "14766a90",
   "metadata": {},
   "source": [
    "#### reduce granularity"
   ]
  },
  {
   "cell_type": "code",
   "execution_count": 194,
   "id": "8e746f45",
   "metadata": {},
   "outputs": [
    {
     "data": {
      "text/html": [
       "<div>\n",
       "<style scoped>\n",
       "    .dataframe tbody tr th:only-of-type {\n",
       "        vertical-align: middle;\n",
       "    }\n",
       "\n",
       "    .dataframe tbody tr th {\n",
       "        vertical-align: top;\n",
       "    }\n",
       "\n",
       "    .dataframe thead th {\n",
       "        text-align: right;\n",
       "    }\n",
       "</style>\n",
       "<table border=\"1\" class=\"dataframe\">\n",
       "  <thead>\n",
       "    <tr style=\"text-align: right;\">\n",
       "      <th></th>\n",
       "      <th>close</th>\n",
       "    </tr>\n",
       "    <tr>\n",
       "      <th>date</th>\n",
       "      <th></th>\n",
       "    </tr>\n",
       "  </thead>\n",
       "  <tbody>\n",
       "    <tr>\n",
       "      <th>2017-07-01 11:00:00</th>\n",
       "      <td>257.13</td>\n",
       "    </tr>\n",
       "    <tr>\n",
       "      <th>2017-07-02 11:00:00</th>\n",
       "      <td>282.30</td>\n",
       "    </tr>\n",
       "    <tr>\n",
       "      <th>2017-07-03 11:00:00</th>\n",
       "      <td>279.50</td>\n",
       "    </tr>\n",
       "    <tr>\n",
       "      <th>2017-07-04 11:00:00</th>\n",
       "      <td>269.57</td>\n",
       "    </tr>\n",
       "    <tr>\n",
       "      <th>2017-07-05 11:00:00</th>\n",
       "      <td>265.20</td>\n",
       "    </tr>\n",
       "  </tbody>\n",
       "</table>\n",
       "</div>"
      ],
      "text/plain": [
       "                      close\n",
       "date                       \n",
       "2017-07-01 11:00:00  257.13\n",
       "2017-07-02 11:00:00  282.30\n",
       "2017-07-03 11:00:00  279.50\n",
       "2017-07-04 11:00:00  269.57\n",
       "2017-07-05 11:00:00  265.20"
      ]
     },
     "execution_count": 194,
     "metadata": {},
     "output_type": "execute_result"
    }
   ],
   "source": [
    "#set frequency to daily\n",
    "df.asfreq('D').head()"
   ]
  },
  {
   "cell_type": "code",
   "execution_count": 195,
   "id": "dffd13ee",
   "metadata": {},
   "outputs": [
    {
     "data": {
      "text/html": [
       "<div>\n",
       "<style scoped>\n",
       "    .dataframe tbody tr th:only-of-type {\n",
       "        vertical-align: middle;\n",
       "    }\n",
       "\n",
       "    .dataframe tbody tr th {\n",
       "        vertical-align: top;\n",
       "    }\n",
       "\n",
       "    .dataframe thead th {\n",
       "        text-align: right;\n",
       "    }\n",
       "</style>\n",
       "<table border=\"1\" class=\"dataframe\">\n",
       "  <thead>\n",
       "    <tr style=\"text-align: right;\">\n",
       "      <th></th>\n",
       "      <th>close</th>\n",
       "    </tr>\n",
       "    <tr>\n",
       "      <th>date</th>\n",
       "      <th></th>\n",
       "    </tr>\n",
       "  </thead>\n",
       "  <tbody>\n",
       "    <tr>\n",
       "      <th>2017-07-31 11:00:00</th>\n",
       "      <td>199.96</td>\n",
       "    </tr>\n",
       "    <tr>\n",
       "      <th>2017-08-31 11:00:00</th>\n",
       "      <td>388.19</td>\n",
       "    </tr>\n",
       "    <tr>\n",
       "      <th>2017-09-30 11:00:00</th>\n",
       "      <td>300.37</td>\n",
       "    </tr>\n",
       "    <tr>\n",
       "      <th>2017-10-31 11:00:00</th>\n",
       "      <td>303.45</td>\n",
       "    </tr>\n",
       "    <tr>\n",
       "      <th>2017-11-30 11:00:00</th>\n",
       "      <td>420.42</td>\n",
       "    </tr>\n",
       "  </tbody>\n",
       "</table>\n",
       "</div>"
      ],
      "text/plain": [
       "                      close\n",
       "date                       \n",
       "2017-07-31 11:00:00  199.96\n",
       "2017-08-31 11:00:00  388.19\n",
       "2017-09-30 11:00:00  300.37\n",
       "2017-10-31 11:00:00  303.45\n",
       "2017-11-30 11:00:00  420.42"
      ]
     },
     "execution_count": 195,
     "metadata": {},
     "output_type": "execute_result"
    }
   ],
   "source": [
    "#set frequency to monthly\n",
    "df.asfreq('M').head()"
   ]
  },
  {
   "cell_type": "markdown",
   "id": "1abdb9c8",
   "metadata": {},
   "source": [
    "### Upsampling: Increase frequency\n",
    "increase the number of rows by adding more precise units of time\n",
    "- use `asfreq` to change the period (same as before)"
   ]
  },
  {
   "cell_type": "markdown",
   "id": "a4f8f2c6",
   "metadata": {},
   "source": [
    "#### Example: the level of granularity of our data is currently to the hour"
   ]
  },
  {
   "cell_type": "code",
   "execution_count": 196,
   "id": "7dd88ff6",
   "metadata": {},
   "outputs": [
    {
     "data": {
      "text/html": [
       "<div>\n",
       "<style scoped>\n",
       "    .dataframe tbody tr th:only-of-type {\n",
       "        vertical-align: middle;\n",
       "    }\n",
       "\n",
       "    .dataframe tbody tr th {\n",
       "        vertical-align: top;\n",
       "    }\n",
       "\n",
       "    .dataframe thead th {\n",
       "        text-align: right;\n",
       "    }\n",
       "</style>\n",
       "<table border=\"1\" class=\"dataframe\">\n",
       "  <thead>\n",
       "    <tr style=\"text-align: right;\">\n",
       "      <th></th>\n",
       "      <th>close</th>\n",
       "    </tr>\n",
       "    <tr>\n",
       "      <th>date</th>\n",
       "      <th></th>\n",
       "    </tr>\n",
       "  </thead>\n",
       "  <tbody>\n",
       "    <tr>\n",
       "      <th>2017-07-01 11:00:00</th>\n",
       "      <td>257.13</td>\n",
       "    </tr>\n",
       "    <tr>\n",
       "      <th>2017-07-01 12:00:00</th>\n",
       "      <td>263.12</td>\n",
       "    </tr>\n",
       "    <tr>\n",
       "      <th>2017-07-01 13:00:00</th>\n",
       "      <td>275.01</td>\n",
       "    </tr>\n",
       "    <tr>\n",
       "      <th>2017-07-01 14:00:00</th>\n",
       "      <td>274.83</td>\n",
       "    </tr>\n",
       "    <tr>\n",
       "      <th>2017-07-01 15:00:00</th>\n",
       "      <td>268.79</td>\n",
       "    </tr>\n",
       "  </tbody>\n",
       "</table>\n",
       "</div>"
      ],
      "text/plain": [
       "                      close\n",
       "date                       \n",
       "2017-07-01 11:00:00  257.13\n",
       "2017-07-01 12:00:00  263.12\n",
       "2017-07-01 13:00:00  275.01\n",
       "2017-07-01 14:00:00  274.83\n",
       "2017-07-01 15:00:00  268.79"
      ]
     },
     "execution_count": 196,
     "metadata": {},
     "output_type": "execute_result"
    }
   ],
   "source": [
    "df.head()"
   ]
  },
  {
   "cell_type": "markdown",
   "id": "f7178d86",
   "metadata": {},
   "source": [
    "#### increase granularity"
   ]
  },
  {
   "cell_type": "code",
   "execution_count": 172,
   "id": "d6d52abe",
   "metadata": {
    "scrolled": true
   },
   "outputs": [
    {
     "data": {
      "text/html": [
       "<div>\n",
       "<style scoped>\n",
       "    .dataframe tbody tr th:only-of-type {\n",
       "        vertical-align: middle;\n",
       "    }\n",
       "\n",
       "    .dataframe tbody tr th {\n",
       "        vertical-align: top;\n",
       "    }\n",
       "\n",
       "    .dataframe thead th {\n",
       "        text-align: right;\n",
       "    }\n",
       "</style>\n",
       "<table border=\"1\" class=\"dataframe\">\n",
       "  <thead>\n",
       "    <tr style=\"text-align: right;\">\n",
       "      <th></th>\n",
       "      <th>close</th>\n",
       "    </tr>\n",
       "    <tr>\n",
       "      <th>date</th>\n",
       "      <th></th>\n",
       "    </tr>\n",
       "  </thead>\n",
       "  <tbody>\n",
       "    <tr>\n",
       "      <th>2017-07-01 11:00:00</th>\n",
       "      <td>257.13</td>\n",
       "    </tr>\n",
       "    <tr>\n",
       "      <th>2017-07-01 11:30:00</th>\n",
       "      <td>NaN</td>\n",
       "    </tr>\n",
       "    <tr>\n",
       "      <th>2017-07-01 12:00:00</th>\n",
       "      <td>263.12</td>\n",
       "    </tr>\n",
       "    <tr>\n",
       "      <th>2017-07-01 12:30:00</th>\n",
       "      <td>NaN</td>\n",
       "    </tr>\n",
       "    <tr>\n",
       "      <th>2017-07-01 13:00:00</th>\n",
       "      <td>275.01</td>\n",
       "    </tr>\n",
       "  </tbody>\n",
       "</table>\n",
       "</div>"
      ],
      "text/plain": [
       "                      close\n",
       "date                       \n",
       "2017-07-01 11:00:00  257.13\n",
       "2017-07-01 11:30:00     NaN\n",
       "2017-07-01 12:00:00  263.12\n",
       "2017-07-01 12:30:00     NaN\n",
       "2017-07-01 13:00:00  275.01"
      ]
     },
     "execution_count": 172,
     "metadata": {},
     "output_type": "execute_result"
    }
   ],
   "source": [
    "#set frequency to minutes\n",
    "df.asfreq('30T').head()"
   ]
  },
  {
   "cell_type": "markdown",
   "id": "2f37896b",
   "metadata": {},
   "source": [
    "#### fill the nulls that were generated"
   ]
  },
  {
   "cell_type": "markdown",
   "id": "6ee41efb",
   "metadata": {},
   "source": [
    "'ffill' = forward fill\n",
    "\n",
    "'bfill' = backward fill"
   ]
  },
  {
   "cell_type": "code",
   "execution_count": 174,
   "id": "dfa3ee4d",
   "metadata": {},
   "outputs": [
    {
     "data": {
      "text/html": [
       "<div>\n",
       "<style scoped>\n",
       "    .dataframe tbody tr th:only-of-type {\n",
       "        vertical-align: middle;\n",
       "    }\n",
       "\n",
       "    .dataframe tbody tr th {\n",
       "        vertical-align: top;\n",
       "    }\n",
       "\n",
       "    .dataframe thead th {\n",
       "        text-align: right;\n",
       "    }\n",
       "</style>\n",
       "<table border=\"1\" class=\"dataframe\">\n",
       "  <thead>\n",
       "    <tr style=\"text-align: right;\">\n",
       "      <th></th>\n",
       "      <th>close</th>\n",
       "    </tr>\n",
       "    <tr>\n",
       "      <th>date</th>\n",
       "      <th></th>\n",
       "    </tr>\n",
       "  </thead>\n",
       "  <tbody>\n",
       "    <tr>\n",
       "      <th>2017-07-01 11:00:00</th>\n",
       "      <td>257.13</td>\n",
       "    </tr>\n",
       "    <tr>\n",
       "      <th>2017-07-01 11:30:00</th>\n",
       "      <td>257.13</td>\n",
       "    </tr>\n",
       "    <tr>\n",
       "      <th>2017-07-01 12:00:00</th>\n",
       "      <td>263.12</td>\n",
       "    </tr>\n",
       "    <tr>\n",
       "      <th>2017-07-01 12:30:00</th>\n",
       "      <td>263.12</td>\n",
       "    </tr>\n",
       "    <tr>\n",
       "      <th>2017-07-01 13:00:00</th>\n",
       "      <td>275.01</td>\n",
       "    </tr>\n",
       "  </tbody>\n",
       "</table>\n",
       "</div>"
      ],
      "text/plain": [
       "                      close\n",
       "date                       \n",
       "2017-07-01 11:00:00  257.13\n",
       "2017-07-01 11:30:00  257.13\n",
       "2017-07-01 12:00:00  263.12\n",
       "2017-07-01 12:30:00  263.12\n",
       "2017-07-01 13:00:00  275.01"
      ]
     },
     "execution_count": 174,
     "metadata": {},
     "output_type": "execute_result"
    }
   ],
   "source": [
    "#use ffill method\n",
    "df.asfreq('30T', method='ffill').head()"
   ]
  },
  {
   "cell_type": "code",
   "execution_count": 175,
   "id": "ac2775b2",
   "metadata": {},
   "outputs": [
    {
     "data": {
      "text/html": [
       "<div>\n",
       "<style scoped>\n",
       "    .dataframe tbody tr th:only-of-type {\n",
       "        vertical-align: middle;\n",
       "    }\n",
       "\n",
       "    .dataframe tbody tr th {\n",
       "        vertical-align: top;\n",
       "    }\n",
       "\n",
       "    .dataframe thead th {\n",
       "        text-align: right;\n",
       "    }\n",
       "</style>\n",
       "<table border=\"1\" class=\"dataframe\">\n",
       "  <thead>\n",
       "    <tr style=\"text-align: right;\">\n",
       "      <th></th>\n",
       "      <th>close</th>\n",
       "    </tr>\n",
       "    <tr>\n",
       "      <th>date</th>\n",
       "      <th></th>\n",
       "    </tr>\n",
       "  </thead>\n",
       "  <tbody>\n",
       "    <tr>\n",
       "      <th>2017-07-01 11:00:00</th>\n",
       "      <td>257.13</td>\n",
       "    </tr>\n",
       "    <tr>\n",
       "      <th>2017-07-01 11:30:00</th>\n",
       "      <td>263.12</td>\n",
       "    </tr>\n",
       "    <tr>\n",
       "      <th>2017-07-01 12:00:00</th>\n",
       "      <td>263.12</td>\n",
       "    </tr>\n",
       "    <tr>\n",
       "      <th>2017-07-01 12:30:00</th>\n",
       "      <td>275.01</td>\n",
       "    </tr>\n",
       "    <tr>\n",
       "      <th>2017-07-01 13:00:00</th>\n",
       "      <td>275.01</td>\n",
       "    </tr>\n",
       "  </tbody>\n",
       "</table>\n",
       "</div>"
      ],
      "text/plain": [
       "                      close\n",
       "date                       \n",
       "2017-07-01 11:00:00  257.13\n",
       "2017-07-01 11:30:00  263.12\n",
       "2017-07-01 12:00:00  263.12\n",
       "2017-07-01 12:30:00  275.01\n",
       "2017-07-01 13:00:00  275.01"
      ]
     },
     "execution_count": 175,
     "metadata": {},
     "output_type": "execute_result"
    }
   ],
   "source": [
    "# use bfill method\n",
    "df.asfreq('30T', method='bfill').head()"
   ]
  },
  {
   "cell_type": "markdown",
   "id": "14d8c3d0",
   "metadata": {},
   "source": [
    "> just fill in the nulls"
   ]
  },
  {
   "cell_type": "markdown",
   "id": "22e109f6",
   "metadata": {},
   "source": [
    "### Resampling - Aggregating over time\n",
    "select a level of granularity and get an aggregated value from it"
   ]
  },
  {
   "cell_type": "code",
   "execution_count": 176,
   "id": "17078c70",
   "metadata": {},
   "outputs": [
    {
     "data": {
      "text/html": [
       "<div>\n",
       "<style scoped>\n",
       "    .dataframe tbody tr th:only-of-type {\n",
       "        vertical-align: middle;\n",
       "    }\n",
       "\n",
       "    .dataframe tbody tr th {\n",
       "        vertical-align: top;\n",
       "    }\n",
       "\n",
       "    .dataframe thead th {\n",
       "        text-align: right;\n",
       "    }\n",
       "</style>\n",
       "<table border=\"1\" class=\"dataframe\">\n",
       "  <thead>\n",
       "    <tr style=\"text-align: right;\">\n",
       "      <th></th>\n",
       "      <th>close</th>\n",
       "    </tr>\n",
       "    <tr>\n",
       "      <th>date</th>\n",
       "      <th></th>\n",
       "    </tr>\n",
       "  </thead>\n",
       "  <tbody>\n",
       "    <tr>\n",
       "      <th>2017-07-01 11:00:00</th>\n",
       "      <td>257.13</td>\n",
       "    </tr>\n",
       "    <tr>\n",
       "      <th>2017-07-01 12:00:00</th>\n",
       "      <td>263.12</td>\n",
       "    </tr>\n",
       "    <tr>\n",
       "      <th>2017-07-01 13:00:00</th>\n",
       "      <td>275.01</td>\n",
       "    </tr>\n",
       "    <tr>\n",
       "      <th>2017-07-01 14:00:00</th>\n",
       "      <td>274.83</td>\n",
       "    </tr>\n",
       "    <tr>\n",
       "      <th>2017-07-01 15:00:00</th>\n",
       "      <td>268.79</td>\n",
       "    </tr>\n",
       "  </tbody>\n",
       "</table>\n",
       "</div>"
      ],
      "text/plain": [
       "                      close\n",
       "date                       \n",
       "2017-07-01 11:00:00  257.13\n",
       "2017-07-01 12:00:00  263.12\n",
       "2017-07-01 13:00:00  275.01\n",
       "2017-07-01 14:00:00  274.83\n",
       "2017-07-01 15:00:00  268.79"
      ]
     },
     "execution_count": 176,
     "metadata": {},
     "output_type": "execute_result"
    }
   ],
   "source": [
    "df.head()"
   ]
  },
  {
   "cell_type": "code",
   "execution_count": 213,
   "id": "e643476b",
   "metadata": {},
   "outputs": [],
   "source": [
    "#get the daily mean\n",
    "df_daily = df.resample('D').mean()"
   ]
  },
  {
   "cell_type": "code",
   "execution_count": 214,
   "id": "2e039916",
   "metadata": {},
   "outputs": [
    {
     "data": {
      "text/html": [
       "<div>\n",
       "<style scoped>\n",
       "    .dataframe tbody tr th:only-of-type {\n",
       "        vertical-align: middle;\n",
       "    }\n",
       "\n",
       "    .dataframe tbody tr th {\n",
       "        vertical-align: top;\n",
       "    }\n",
       "\n",
       "    .dataframe thead tr th {\n",
       "        text-align: left;\n",
       "    }\n",
       "\n",
       "    .dataframe thead tr:last-of-type th {\n",
       "        text-align: right;\n",
       "    }\n",
       "</style>\n",
       "<table border=\"1\" class=\"dataframe\">\n",
       "  <thead>\n",
       "    <tr>\n",
       "      <th></th>\n",
       "      <th colspan=\"3\" halign=\"left\">close</th>\n",
       "    </tr>\n",
       "    <tr>\n",
       "      <th></th>\n",
       "      <th>mean</th>\n",
       "      <th>min</th>\n",
       "      <th>max</th>\n",
       "    </tr>\n",
       "    <tr>\n",
       "      <th>date</th>\n",
       "      <th></th>\n",
       "      <th></th>\n",
       "      <th></th>\n",
       "    </tr>\n",
       "  </thead>\n",
       "  <tbody>\n",
       "    <tr>\n",
       "      <th>2017-07-01</th>\n",
       "      <td>265.284615</td>\n",
       "      <td>257.13</td>\n",
       "      <td>275.01</td>\n",
       "    </tr>\n",
       "    <tr>\n",
       "      <th>2017-07-02</th>\n",
       "      <td>269.782500</td>\n",
       "      <td>256.81</td>\n",
       "      <td>292.54</td>\n",
       "    </tr>\n",
       "    <tr>\n",
       "      <th>2017-07-03</th>\n",
       "      <td>278.882083</td>\n",
       "      <td>274.89</td>\n",
       "      <td>282.36</td>\n",
       "    </tr>\n",
       "    <tr>\n",
       "      <th>2017-07-04</th>\n",
       "      <td>276.743333</td>\n",
       "      <td>268.95</td>\n",
       "      <td>282.58</td>\n",
       "    </tr>\n",
       "    <tr>\n",
       "      <th>2017-07-05</th>\n",
       "      <td>265.025833</td>\n",
       "      <td>255.42</td>\n",
       "      <td>271.00</td>\n",
       "    </tr>\n",
       "  </tbody>\n",
       "</table>\n",
       "</div>"
      ],
      "text/plain": [
       "                 close                \n",
       "                  mean     min     max\n",
       "date                                  \n",
       "2017-07-01  265.284615  257.13  275.01\n",
       "2017-07-02  269.782500  256.81  292.54\n",
       "2017-07-03  278.882083  274.89  282.36\n",
       "2017-07-04  276.743333  268.95  282.58\n",
       "2017-07-05  265.025833  255.42  271.00"
      ]
     },
     "execution_count": 214,
     "metadata": {},
     "output_type": "execute_result"
    }
   ],
   "source": [
    "#get mean, min, max\n",
    "df.resample('D').agg(['mean', 'min', 'max']).head()"
   ]
  },
  {
   "cell_type": "markdown",
   "id": "1b946cd4",
   "metadata": {},
   "source": [
    "#### let's plot it!"
   ]
  },
  {
   "cell_type": "code",
   "execution_count": 215,
   "id": "0aba849a",
   "metadata": {},
   "outputs": [
    {
     "data": {
      "image/png": "[encoded data removed]",
      "text/plain": [
       "<Figure size 640x480 with 1 Axes>"
      ]
     },
     "metadata": {},
     "output_type": "display_data"
    }
   ],
   "source": [
    "# plt.figure(figsize=(14,10))\n",
    "\n",
    "df_daily.close.plot(label='daily')\n",
    "df_daily.resample('W').mean().close.plot(label='weekly')\n",
    "df_daily.resample('M').mean().close.plot(label='monthly')\n",
    "df_daily.resample('Y').mean().close.plot(label='yearly')\n",
    "\n",
    "\n",
    "plt.title('plotting close over time with various resampling techniques')\n",
    "plt.legend()\n",
    "plt.show()"
   ]
  },
  {
   "cell_type": "markdown",
   "id": "61e868b3",
   "metadata": {},
   "source": [
    "### Rolling averages"
   ]
  },
  {
   "cell_type": "markdown",
   "id": "d69492fd",
   "metadata": {},
   "source": [
    "used to smooth out short-term fluctuations in time series data and highlight long-term trends\n",
    "- use `rolling()` to calculate"
   ]
  },
  {
   "cell_type": "code",
   "execution_count": 202,
   "id": "27618300",
   "metadata": {},
   "outputs": [
    {
     "data": {
      "text/html": [
       "<div>\n",
       "<style scoped>\n",
       "    .dataframe tbody tr th:only-of-type {\n",
       "        vertical-align: middle;\n",
       "    }\n",
       "\n",
       "    .dataframe tbody tr th {\n",
       "        vertical-align: top;\n",
       "    }\n",
       "\n",
       "    .dataframe thead th {\n",
       "        text-align: right;\n",
       "    }\n",
       "</style>\n",
       "<table border=\"1\" class=\"dataframe\">\n",
       "  <thead>\n",
       "    <tr style=\"text-align: right;\">\n",
       "      <th></th>\n",
       "      <th>close</th>\n",
       "    </tr>\n",
       "    <tr>\n",
       "      <th>date</th>\n",
       "      <th></th>\n",
       "    </tr>\n",
       "  </thead>\n",
       "  <tbody>\n",
       "    <tr>\n",
       "      <th>2017-07-01</th>\n",
       "      <td>265.284615</td>\n",
       "    </tr>\n",
       "    <tr>\n",
       "      <th>2017-07-02</th>\n",
       "      <td>269.782500</td>\n",
       "    </tr>\n",
       "    <tr>\n",
       "      <th>2017-07-03</th>\n",
       "      <td>278.882083</td>\n",
       "    </tr>\n",
       "    <tr>\n",
       "      <th>2017-07-04</th>\n",
       "      <td>276.743333</td>\n",
       "    </tr>\n",
       "    <tr>\n",
       "      <th>2017-07-05</th>\n",
       "      <td>265.025833</td>\n",
       "    </tr>\n",
       "  </tbody>\n",
       "</table>\n",
       "</div>"
      ],
      "text/plain": [
       "                 close\n",
       "date                  \n",
       "2017-07-01  265.284615\n",
       "2017-07-02  269.782500\n",
       "2017-07-03  278.882083\n",
       "2017-07-04  276.743333\n",
       "2017-07-05  265.025833"
      ]
     },
     "execution_count": 202,
     "metadata": {},
     "output_type": "execute_result"
    }
   ],
   "source": [
    "df_daily.head()"
   ]
  },
  {
   "cell_type": "code",
   "execution_count": null,
   "id": "83f639b3",
   "metadata": {},
   "outputs": [],
   "source": []
  },
  {
   "cell_type": "code",
   "execution_count": 190,
   "id": "97548cbf",
   "metadata": {},
   "outputs": [
    {
     "data": {
      "text/html": [
       "<div>\n",
       "<style scoped>\n",
       "    .dataframe tbody tr th:only-of-type {\n",
       "        vertical-align: middle;\n",
       "    }\n",
       "\n",
       "    .dataframe tbody tr th {\n",
       "        vertical-align: top;\n",
       "    }\n",
       "\n",
       "    .dataframe thead tr th {\n",
       "        text-align: left;\n",
       "    }\n",
       "\n",
       "    .dataframe thead tr:last-of-type th {\n",
       "        text-align: right;\n",
       "    }\n",
       "</style>\n",
       "<table border=\"1\" class=\"dataframe\">\n",
       "  <thead>\n",
       "    <tr>\n",
       "      <th></th>\n",
       "      <th colspan=\"3\" halign=\"left\">close</th>\n",
       "    </tr>\n",
       "    <tr>\n",
       "      <th></th>\n",
       "      <th>mean</th>\n",
       "      <th>min</th>\n",
       "      <th>max</th>\n",
       "    </tr>\n",
       "    <tr>\n",
       "      <th>date</th>\n",
       "      <th></th>\n",
       "      <th></th>\n",
       "      <th></th>\n",
       "    </tr>\n",
       "  </thead>\n",
       "  <tbody>\n",
       "    <tr>\n",
       "      <th>2017-07-01</th>\n",
       "      <td>NaN</td>\n",
       "      <td>NaN</td>\n",
       "      <td>NaN</td>\n",
       "    </tr>\n",
       "    <tr>\n",
       "      <th>2017-07-02</th>\n",
       "      <td>NaN</td>\n",
       "      <td>NaN</td>\n",
       "      <td>NaN</td>\n",
       "    </tr>\n",
       "    <tr>\n",
       "      <th>2017-07-03</th>\n",
       "      <td>NaN</td>\n",
       "      <td>NaN</td>\n",
       "      <td>NaN</td>\n",
       "    </tr>\n",
       "    <tr>\n",
       "      <th>2017-07-04</th>\n",
       "      <td>NaN</td>\n",
       "      <td>NaN</td>\n",
       "      <td>NaN</td>\n",
       "    </tr>\n",
       "    <tr>\n",
       "      <th>2017-07-05</th>\n",
       "      <td>271.143673</td>\n",
       "      <td>262.640</td>\n",
       "      <td>280.698</td>\n",
       "    </tr>\n",
       "    <tr>\n",
       "      <th>2017-07-06</th>\n",
       "      <td>271.382750</td>\n",
       "      <td>263.654</td>\n",
       "      <td>280.696</td>\n",
       "    </tr>\n",
       "    <tr>\n",
       "      <th>2017-07-07</th>\n",
       "      <td>268.214667</td>\n",
       "      <td>259.690</td>\n",
       "      <td>275.430</td>\n",
       "    </tr>\n",
       "    <tr>\n",
       "      <th>2017-07-08</th>\n",
       "      <td>260.747833</td>\n",
       "      <td>251.402</td>\n",
       "      <td>268.302</td>\n",
       "    </tr>\n",
       "    <tr>\n",
       "      <th>2017-07-09</th>\n",
       "      <td>254.361833</td>\n",
       "      <td>245.374</td>\n",
       "      <td>261.722</td>\n",
       "    </tr>\n",
       "    <tr>\n",
       "      <th>2017-07-10</th>\n",
       "      <td>246.440417</td>\n",
       "      <td>234.862</td>\n",
       "      <td>255.216</td>\n",
       "    </tr>\n",
       "  </tbody>\n",
       "</table>\n",
       "</div>"
      ],
      "text/plain": [
       "                 close                  \n",
       "                  mean      min      max\n",
       "date                                    \n",
       "2017-07-01         NaN      NaN      NaN\n",
       "2017-07-02         NaN      NaN      NaN\n",
       "2017-07-03         NaN      NaN      NaN\n",
       "2017-07-04         NaN      NaN      NaN\n",
       "2017-07-05  271.143673  262.640  280.698\n",
       "2017-07-06  271.382750  263.654  280.696\n",
       "2017-07-07  268.214667  259.690  275.430\n",
       "2017-07-08  260.747833  251.402  268.302\n",
       "2017-07-09  254.361833  245.374  261.722\n",
       "2017-07-10  246.440417  234.862  255.216"
      ]
     },
     "execution_count": 190,
     "metadata": {},
     "output_type": "execute_result"
    }
   ],
   "source": [
    "#use the rolling function\n",
    "df_daily.rolling(5).mean().head(10)"
   ]
  },
  {
   "cell_type": "code",
   "execution_count": null,
   "id": "f694fcf3",
   "metadata": {},
   "outputs": [],
   "source": []
  },
  {
   "cell_type": "markdown",
   "id": "729f6fc8",
   "metadata": {},
   "source": [
    "> the rolling average is the previous number of units averaged together  \n",
    "> in this example, the rolling average on 2017-07-05 is the average of 2017-07-01 - 2017-07-05"
   ]
  },
  {
   "cell_type": "markdown",
   "id": "8e8e95e4",
   "metadata": {},
   "source": [
    "#### let's plot it!"
   ]
  },
  {
   "cell_type": "code",
   "execution_count": 201,
   "id": "0fb2c423",
   "metadata": {},
   "outputs": [
    {
     "data": {
      "image/png": "[encoded data removed]",
      "text/plain": [
       "<Figure size 1200x800 with 1 Axes>"
      ]
     },
     "metadata": {},
     "output_type": "display_data"
    },
    {
     "data": {
      "image/png": "[encoded data removed]",
      "text/plain": [
       "<Figure size 640x480 with 1 Axes>"
      ]
     },
     "metadata": {},
     "output_type": "display_data"
    }
   ],
   "source": [
    "plt.figure(figsize=(12,8))\n",
    "\n",
    "# original granularity\n",
    "df_daily.close.plot(label='original')\n",
    "\n",
    "# resample by week and look at 4 weeks \n",
    "df_daily.resample('W').mean().plot(label='original')\n",
    "# resample by week and look at 12 weeks \n",
    "\n",
    "plt.legend()\n",
    "plt.title('original vs rolling averages')\n",
    "plt.show()"
   ]
  },
  {
   "cell_type": "markdown",
   "id": "39c41b9d",
   "metadata": {},
   "source": [
    "### How about Lagging or Leading the data?\n",
    "\n",
    "* `.shift`: move the data backwards and forwards by a given amount\n",
    "* `.diff`: find the difference with the previous observation (or a specified further back observation)"
   ]
  },
  {
   "cell_type": "code",
   "execution_count": 204,
   "id": "642514e4",
   "metadata": {},
   "outputs": [
    {
     "data": {
      "text/html": [
       "<div>\n",
       "<style scoped>\n",
       "    .dataframe tbody tr th:only-of-type {\n",
       "        vertical-align: middle;\n",
       "    }\n",
       "\n",
       "    .dataframe tbody tr th {\n",
       "        vertical-align: top;\n",
       "    }\n",
       "\n",
       "    .dataframe thead th {\n",
       "        text-align: right;\n",
       "    }\n",
       "</style>\n",
       "<table border=\"1\" class=\"dataframe\">\n",
       "  <thead>\n",
       "    <tr style=\"text-align: right;\">\n",
       "      <th></th>\n",
       "      <th>close</th>\n",
       "    </tr>\n",
       "    <tr>\n",
       "      <th>date</th>\n",
       "      <th></th>\n",
       "    </tr>\n",
       "  </thead>\n",
       "  <tbody>\n",
       "    <tr>\n",
       "      <th>2017-07-01</th>\n",
       "      <td>265.284615</td>\n",
       "    </tr>\n",
       "    <tr>\n",
       "      <th>2017-07-02</th>\n",
       "      <td>269.782500</td>\n",
       "    </tr>\n",
       "    <tr>\n",
       "      <th>2017-07-03</th>\n",
       "      <td>278.882083</td>\n",
       "    </tr>\n",
       "    <tr>\n",
       "      <th>2017-07-04</th>\n",
       "      <td>276.743333</td>\n",
       "    </tr>\n",
       "    <tr>\n",
       "      <th>2017-07-05</th>\n",
       "      <td>265.025833</td>\n",
       "    </tr>\n",
       "  </tbody>\n",
       "</table>\n",
       "</div>"
      ],
      "text/plain": [
       "                 close\n",
       "date                  \n",
       "2017-07-01  265.284615\n",
       "2017-07-02  269.782500\n",
       "2017-07-03  278.882083\n",
       "2017-07-04  276.743333\n",
       "2017-07-05  265.025833"
      ]
     },
     "execution_count": 204,
     "metadata": {},
     "output_type": "execute_result"
    }
   ],
   "source": [
    "df_daily.head()"
   ]
  },
  {
   "cell_type": "code",
   "execution_count": 203,
   "id": "7f5ac3c7",
   "metadata": {},
   "outputs": [
    {
     "data": {
      "text/html": [
       "<div>\n",
       "<style scoped>\n",
       "    .dataframe tbody tr th:only-of-type {\n",
       "        vertical-align: middle;\n",
       "    }\n",
       "\n",
       "    .dataframe tbody tr th {\n",
       "        vertical-align: top;\n",
       "    }\n",
       "\n",
       "    .dataframe thead th {\n",
       "        text-align: right;\n",
       "    }\n",
       "</style>\n",
       "<table border=\"1\" class=\"dataframe\">\n",
       "  <thead>\n",
       "    <tr style=\"text-align: right;\">\n",
       "      <th></th>\n",
       "      <th>close</th>\n",
       "    </tr>\n",
       "    <tr>\n",
       "      <th>date</th>\n",
       "      <th></th>\n",
       "    </tr>\n",
       "  </thead>\n",
       "  <tbody>\n",
       "    <tr>\n",
       "      <th>2017-07-01</th>\n",
       "      <td>NaN</td>\n",
       "    </tr>\n",
       "    <tr>\n",
       "      <th>2017-07-02</th>\n",
       "      <td>265.284615</td>\n",
       "    </tr>\n",
       "    <tr>\n",
       "      <th>2017-07-03</th>\n",
       "      <td>269.782500</td>\n",
       "    </tr>\n",
       "    <tr>\n",
       "      <th>2017-07-04</th>\n",
       "      <td>278.882083</td>\n",
       "    </tr>\n",
       "    <tr>\n",
       "      <th>2017-07-05</th>\n",
       "      <td>276.743333</td>\n",
       "    </tr>\n",
       "  </tbody>\n",
       "</table>\n",
       "</div>"
      ],
      "text/plain": [
       "                 close\n",
       "date                  \n",
       "2017-07-01         NaN\n",
       "2017-07-02  265.284615\n",
       "2017-07-03  269.782500\n",
       "2017-07-04  278.882083\n",
       "2017-07-05  276.743333"
      ]
     },
     "execution_count": 203,
     "metadata": {},
     "output_type": "execute_result"
    }
   ],
   "source": [
    "#shift by one\n",
    "df_daily.shift(1)"
   ]
  },
  {
   "cell_type": "code",
   "execution_count": 205,
   "id": "28a92b98",
   "metadata": {},
   "outputs": [
    {
     "data": {
      "text/html": [
       "<div>\n",
       "<style scoped>\n",
       "    .dataframe tbody tr th:only-of-type {\n",
       "        vertical-align: middle;\n",
       "    }\n",
       "\n",
       "    .dataframe tbody tr th {\n",
       "        vertical-align: top;\n",
       "    }\n",
       "\n",
       "    .dataframe thead th {\n",
       "        text-align: right;\n",
       "    }\n",
       "</style>\n",
       "<table border=\"1\" class=\"dataframe\">\n",
       "  <thead>\n",
       "    <tr style=\"text-align: right;\">\n",
       "      <th></th>\n",
       "      <th>close</th>\n",
       "    </tr>\n",
       "    <tr>\n",
       "      <th>date</th>\n",
       "      <th></th>\n",
       "    </tr>\n",
       "  </thead>\n",
       "  <tbody>\n",
       "    <tr>\n",
       "      <th>2017-07-01</th>\n",
       "      <td>269.782500</td>\n",
       "    </tr>\n",
       "    <tr>\n",
       "      <th>2017-07-02</th>\n",
       "      <td>278.882083</td>\n",
       "    </tr>\n",
       "    <tr>\n",
       "      <th>2017-07-03</th>\n",
       "      <td>276.743333</td>\n",
       "    </tr>\n",
       "    <tr>\n",
       "      <th>2017-07-04</th>\n",
       "      <td>265.025833</td>\n",
       "    </tr>\n",
       "    <tr>\n",
       "      <th>2017-07-05</th>\n",
       "      <td>NaN</td>\n",
       "    </tr>\n",
       "  </tbody>\n",
       "</table>\n",
       "</div>"
      ],
      "text/plain": [
       "                 close\n",
       "date                  \n",
       "2017-07-01  269.782500\n",
       "2017-07-02  278.882083\n",
       "2017-07-03  276.743333\n",
       "2017-07-04  265.025833\n",
       "2017-07-05         NaN"
      ]
     },
     "execution_count": 205,
     "metadata": {},
     "output_type": "execute_result"
    }
   ],
   "source": [
    "#shift by negative 1\n",
    "df_daily.shift(-1)"
   ]
  },
  {
   "cell_type": "code",
   "execution_count": 209,
   "id": "99523a9f",
   "metadata": {},
   "outputs": [
    {
     "data": {
      "text/html": [
       "<div>\n",
       "<style scoped>\n",
       "    .dataframe tbody tr th:only-of-type {\n",
       "        vertical-align: middle;\n",
       "    }\n",
       "\n",
       "    .dataframe tbody tr th {\n",
       "        vertical-align: top;\n",
       "    }\n",
       "\n",
       "    .dataframe thead th {\n",
       "        text-align: right;\n",
       "    }\n",
       "</style>\n",
       "<table border=\"1\" class=\"dataframe\">\n",
       "  <thead>\n",
       "    <tr style=\"text-align: right;\">\n",
       "      <th></th>\n",
       "      <th>close</th>\n",
       "      <th>diff</th>\n",
       "    </tr>\n",
       "    <tr>\n",
       "      <th>date</th>\n",
       "      <th></th>\n",
       "      <th></th>\n",
       "    </tr>\n",
       "  </thead>\n",
       "  <tbody>\n",
       "    <tr>\n",
       "      <th>2017-07-01</th>\n",
       "      <td>265.284615</td>\n",
       "      <td>NaN</td>\n",
       "    </tr>\n",
       "    <tr>\n",
       "      <th>2017-07-02</th>\n",
       "      <td>269.782500</td>\n",
       "      <td>4.497885</td>\n",
       "    </tr>\n",
       "    <tr>\n",
       "      <th>2017-07-03</th>\n",
       "      <td>278.882083</td>\n",
       "      <td>9.099583</td>\n",
       "    </tr>\n",
       "    <tr>\n",
       "      <th>2017-07-04</th>\n",
       "      <td>276.743333</td>\n",
       "      <td>-2.138750</td>\n",
       "    </tr>\n",
       "    <tr>\n",
       "      <th>2017-07-05</th>\n",
       "      <td>265.025833</td>\n",
       "      <td>-11.717500</td>\n",
       "    </tr>\n",
       "  </tbody>\n",
       "</table>\n",
       "</div>"
      ],
      "text/plain": [
       "                 close       diff\n",
       "date                             \n",
       "2017-07-01  265.284615        NaN\n",
       "2017-07-02  269.782500   4.497885\n",
       "2017-07-03  278.882083   9.099583\n",
       "2017-07-04  276.743333  -2.138750\n",
       "2017-07-05  265.025833 -11.717500"
      ]
     },
     "execution_count": 209,
     "metadata": {},
     "output_type": "execute_result"
    }
   ],
   "source": [
    "#difference by one\n",
    "df_daily['diff'] = df_daily.close.diff(1)\n",
    "df_daily.head()"
   ]
  },
  {
   "cell_type": "markdown",
   "id": "2a405102",
   "metadata": {},
   "source": [
    "# Recap"
   ]
  },
  {
   "cell_type": "markdown",
   "id": "453a326b",
   "metadata": {},
   "source": [
    "- use `datetime.datetime` module\n",
    "- to cast as a date\n",
    "    - `.astype('datetime64')`\n",
    "    - `pd.to_datetime()`\n",
    "        - can use `format` argument for funky dates\n",
    "- strftime notation\n",
    "    - https://docs.python.org/3/library/datetime.html#strftime-and-strptime-behavior\n",
    "- attritubes and methods\n",
    "    - https://pandas.pydata.org/docs/reference/api/pandas.DatetimeIndex.html\n",
    "- to make pandas time aware\n",
    "    1. Convert 'date' column to datetime object\n",
    "    2. Set the datetime column as index\n",
    "    3. Sort the datetime index\n",
    "- sampling methods\n",
    "    - downsampling/ upsampling\n",
    "        - `.asfreq()` \n",
    "        - fill nulls\n",
    "            - `.ffill`/`.bfill`\n",
    "    - resampling\n",
    "        - `.resample()`\n",
    "    - rolling average\n",
    "        - `.rolling()`\n",
    "        \n",
    "    "
   ]
  },
  {
   "cell_type": "code",
   "execution_count": null,
   "id": "4061795d",
   "metadata": {},
   "outputs": [],
   "source": []
  }
 ],
 "metadata": {
  "kernelspec": {
   "display_name": "Python 3 (ipykernel)",
   "language": "python",
   "name": "python3"
  },
  "language_info": {
   "codemirror_mode": {
    "name": "ipython",
    "version": 3
   },
   "file_extension": ".py",
   "mimetype": "text/x-python",
   "name": "python",
   "nbconvert_exporter": "python",
   "pygments_lexer": "ipython3",
   "version": "3.9.13"
  },
  "toc": {
   "base_numbering": 1,
   "nav_menu": {},
   "number_sections": false,
   "sideBar": true,
   "skip_h1_title": true,
   "title_cell": "Table of Contents",
   "title_sidebar": "Contents",
   "toc_cell": false,
   "toc_position": {},
   "toc_section_display": true,
   "toc_window_display": false
  }
 },
 "nbformat": 4,
 "nbformat_minor": 5
}
